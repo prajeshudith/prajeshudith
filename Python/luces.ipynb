{
  "nbformat": 4,
  "nbformat_minor": 0,
  "metadata": {
    "colab": {
      "name": "luces.ipynb",
      "provenance": []
    },
    "kernelspec": {
      "name": "python3",
      "display_name": "Python 3"
    },
    "language_info": {
      "name": "python"
    }
  },
  "cells": [
    {
      "cell_type": "code",
      "execution_count": null,
      "metadata": {
        "id": "dR31EToTfZ89"
      },
      "outputs": [],
      "source": [
        "import requests\n",
        "import re\n",
        "import pandas as pd\n",
        "from bs4 import BeautifulSoup\n",
        "from datetime import date"
      ]
    },
    {
      "cell_type": "code",
      "source": [
        "news_articles = []\n",
        "keyword = input('Enter the word:')\n",
        "luces = \"https://lucesdelsiglo.com/?s=\"+keyword\n",
        "r = requests.get(luces)\n",
        "soup = BeautifulSoup(r.content, 'html.parser')\n"
      ],
      "metadata": {
        "colab": {
          "base_uri": "https://localhost:8080/"
        },
        "id": "KbhLJJ-Dfm9J",
        "outputId": "57e477cd-ad38-48f9-9928-54c693e495ff"
      },
      "execution_count": null,
      "outputs": [
        {
          "name": "stdout",
          "output_type": "stream",
          "text": [
            "Enter the word:cancun\n"
          ]
        }
      ]
    },
    {
      "cell_type": "code",
      "source": [
        "news = soup.findAll('div',{'class':'item-details'})\n",
        "\n",
        "headlines = []\n",
        "abstract = []\n",
        "links =[]\n",
        "dates = []"
      ],
      "metadata": {
        "id": "lGe6mKAafzmZ"
      },
      "execution_count": null,
      "outputs": []
    },
    {
      "cell_type": "code",
      "source": [
        "news"
      ],
      "metadata": {
        "colab": {
          "base_uri": "https://localhost:8080/"
        },
        "id": "a8ECl-DvgBun",
        "outputId": "867792d3-be16-42df-c449-709d8cb80045"
      },
      "execution_count": null,
      "outputs": [
        {
          "output_type": "execute_result",
          "data": {
            "text/plain": [
              "[<div class=\"item-details\">\n",
              " <h3 class=\"entry-title td-module-title\"><a href=\"https://lucesdelsiglo.com/2015/10/24/revista-luces-del-siglo-622/\" rel=\"bookmark\" title=\"Revista “Luces del Siglo” #622\">Revista “Luces del Siglo” #622</a></h3> </div>,\n",
              " <div class=\"item-details\">\n",
              " <h3 class=\"entry-title td-module-title\"><a href=\"https://lucesdelsiglo.com/2015/10/19/revista-luces-del-siglo-621/\" rel=\"bookmark\" title=\"Revista “Luces del Siglo” #621\">Revista “Luces del Siglo” #621</a></h3> </div>,\n",
              " <div class=\"item-details\">\n",
              " <h3 class=\"entry-title td-module-title\"><a href=\"https://lucesdelsiglo.com/2015/10/12/revista-luces-del-siglo-620/\" rel=\"bookmark\" title=\"Revista “Luces del Siglo” #620\">Revista “Luces del Siglo” #620</a></h3> </div>,\n",
              " <div class=\"item-details\">\n",
              " <h3 class=\"entry-title td-module-title\"><a href=\"https://lucesdelsiglo.com/2015/10/03/revista-luces-del-siglo-619/\" rel=\"bookmark\" title=\"Revista “Luces del Siglo” #619\">Revista “Luces del Siglo” #619</a></h3> </div>,\n",
              " <div class=\"item-details\">\n",
              " <h3 class=\"entry-title td-module-title\"><a href=\"https://lucesdelsiglo.com/2022/01/21/nombran-en-cancun-ano-de-la-esperanza-local/\" rel=\"bookmark\" title=\"Nombran en Cancún ‘Año de la Esperanza’\">Nombran en Cancún ‘Año de la Esperanza’</a></h3>\n",
              " <div class=\"td-module-meta-info\">\n",
              " <span class=\"td-post-date\"><time class=\"entry-date updated td-module-date\" datetime=\"2022-01-21T05:12:00-05:00\">21 enero, 2022</time></span> </div>\n",
              " <div class=\"td-excerpt\">\n",
              "                     El Cabildo de Benito Juárez designó el 2022 como el ‘Año de la Esperanza’, leyenda que aparecerá en todos los documentos oficiales.                </div>\n",
              " </div>,\n",
              " <div class=\"item-details\">\n",
              " <h3 class=\"entry-title td-module-title\"><a href=\"https://lucesdelsiglo.com/2022/01/21/pelotero-de-cancun-firma-con-equipo-colegial-de-ee-uu-deportes/\" rel=\"bookmark\" title=\"Pelotero de Cancún firma con equipo colegial de EE. UU.\">Pelotero de Cancún firma con equipo colegial de EE. UU.</a></h3>\n",
              " <div class=\"td-module-meta-info\">\n",
              " <span class=\"td-post-date\"><time class=\"entry-date updated td-module-date\" datetime=\"2022-01-21T04:38:00-05:00\">21 enero, 2022</time></span> </div>\n",
              " <div class=\"td-excerpt\">\n",
              "                     El beisbolista cancunense Manuel Alejandro Martínez González, se encuentra en Iowa, Estados Unidos, donde realiza la pretemporada con los Blackhawks de Southeastern Community College, su nuevo equipo.                </div>\n",
              " </div>,\n",
              " <div class=\"item-details\">\n",
              " <h3 class=\"entry-title td-module-title\"><a href=\"https://lucesdelsiglo.com/2022/01/21/abierto-mexicano-de-footgolf-sera-en-cancun-deportes/\" rel=\"bookmark\" title=\"Abierto Mexicano de FootGolf será en Cancún\">Abierto Mexicano de FootGolf será en Cancún</a></h3>\n",
              " <div class=\"td-module-meta-info\">\n",
              " <span class=\"td-post-date\"><time class=\"entry-date updated td-module-date\" datetime=\"2022-01-21T04:36:00-05:00\">21 enero, 2022</time></span> </div>\n",
              " <div class=\"td-excerpt\">\n",
              "                     Durante 2021, el footgolf en Cancún se ha consolidado a nivel nacional, debido a la infraestructura para desarrollar la actividad que hay en la ciudad.                 </div>\n",
              " </div>,\n",
              " <div class=\"item-details\">\n",
              " <h3 class=\"entry-title td-module-title\"><a href=\"https://lucesdelsiglo.com/2022/01/20/cancun-tercer-destino-mas-popular-del-mundo-local/\" rel=\"bookmark\" title=\"Cancún, tercer destino más popular del mundo\">Cancún, tercer destino más popular del mundo</a></h3>\n",
              " <div class=\"td-module-meta-info\">\n",
              " <span class=\"td-post-date\"><time class=\"entry-date updated td-module-date\" datetime=\"2022-01-20T14:42:13-05:00\">20 enero, 2022</time></span> </div>\n",
              " <div class=\"td-excerpt\">\n",
              "                     Junto al 3.er lugar dentro de los mejores destinos de 2022, Cancún también ganó como el mejor destino para los amantes del sol.                </div>\n",
              " </div>,\n",
              " <div class=\"item-details\">\n",
              " <h3 class=\"entry-title td-module-title\"><a href=\"https://lucesdelsiglo.com/2022/01/20/suman-iniciativas-de-ambientalistas-en-cancun-multimedia/\" rel=\"bookmark\" title=\"Suman iniciativas de ambientalistas en Cancún\">Suman iniciativas de ambientalistas en Cancún</a></h3>\n",
              " <div class=\"td-module-meta-info\">\n",
              " <span class=\"td-post-date\"><time class=\"entry-date updated td-module-date\" datetime=\"2022-01-20T13:42:15-05:00\">20 enero, 2022</time></span> </div>\n",
              " <div class=\"td-excerpt\">\n",
              "                     El gobierno municipal de Benito Juárez abrió un canal de comunicación con grupos ambientalistas para escuchar sus propuestas.                </div>\n",
              " </div>,\n",
              " <div class=\"item-details\">\n",
              " <h3 class=\"entry-title td-module-title\"><a href=\"https://lucesdelsiglo.com/2022/01/20/suman-iniciativas-de-ambientalistas-en-cancun-local/\" rel=\"bookmark\" title=\"Suman iniciativas de ambientalistas en Cancún\">Suman iniciativas de ambientalistas en Cancún</a></h3>\n",
              " <div class=\"td-module-meta-info\">\n",
              " <span class=\"td-post-date\"><time class=\"entry-date updated td-module-date\" datetime=\"2022-01-20T05:12:00-05:00\">20 enero, 2022</time></span> </div>\n",
              " <div class=\"td-excerpt\">\n",
              "                     El objetivo del canal es integrar a las asociaciones civiles ambientalistas al trabajo de la administración, y en para arrancar ayer se realizó una reunión entre ese sector y autoridades municipales.                </div>\n",
              " </div>,\n",
              " <div class=\"item-details\">\n",
              " <h3 class=\"entry-title td-module-title\"><a href=\"https://lucesdelsiglo.com/2022/01/18/sufre-cancun-fc-derrota-ante-dorados-deportes/\" rel=\"bookmark\" title=\"Sufre Cancún FC derrota ante Dorados\">Sufre Cancún FC derrota ante Dorados</a></h3>\n",
              " <div class=\"td-module-meta-info\">\n",
              " <span class=\"td-post-date\"><time class=\"entry-date updated td-module-date\" datetime=\"2022-01-18T21:20:00-05:00\">18 enero, 2022</time></span> </div>\n",
              " <div class=\"td-excerpt\">\n",
              "                     Cancún FC cayó 1-2 ante Dorados, en la Jornada 3 del Torneo Clausura 2022 en la Liga de Expansión, no pudo hilar su segunda victoria.                </div>\n",
              " </div>,\n",
              " <div class=\"item-details\">\n",
              " <h3 class=\"entry-title td-module-title\"><a href=\"https://lucesdelsiglo.com/2022/01/18/suena-cancun-fc-con-hilar-triunfos-deportes/\" rel=\"bookmark\" title=\"Sueña Cancún FC con hilar triunfos\">Sueña Cancún FC con hilar triunfos</a></h3>\n",
              " <div class=\"td-module-meta-info\">\n",
              " <span class=\"td-post-date\"><time class=\"entry-date updated td-module-date\" datetime=\"2022-01-18T04:42:00-05:00\">18 enero, 2022</time></span> </div>\n",
              " <div class=\"td-excerpt\">\n",
              "                     El Cancún FC buscará ligar su segunda victoria consecutiva en la Liga de Expansión, algo que no logran desde la temporada pasada.                </div>\n",
              " </div>,\n",
              " <div class=\"item-details\">\n",
              " <h3 class=\"entry-title td-module-title\"><a href=\"https://lucesdelsiglo.com/2022/01/16/tendra-lux-funcion-de-mma-en-cancun-deportes/\" rel=\"bookmark\" title=\"Tendrá LUX función de MMA en Cancún\">Tendrá LUX función de MMA en Cancún</a></h3>\n",
              " <div class=\"td-module-meta-info\">\n",
              " <span class=\"td-post-date\"><time class=\"entry-date updated td-module-date\" datetime=\"2022-01-16T21:18:00-05:00\">16 enero, 2022</time></span> </div>\n",
              " <div class=\"td-excerpt\">\n",
              "                     La promotora LUX Fight League confirmó su cartelera para el próximo 11 de febrero en la Plaza de Toros en Cancún.                </div>\n",
              " </div>,\n",
              " <div class=\"item-details\">\n",
              " <h3 class=\"entry-title td-module-title\"><a href=\"https://lucesdelsiglo.com/2022/01/14/amagan-con-ampararse-contra-derecho-ambiental-en-cancun-local/\" rel=\"bookmark\" title=\"Amagan con ampararse contra Derecho Ambiental en Cancún\">Amagan con ampararse contra Derecho Ambiental en Cancún</a></h3>\n",
              " <div class=\"td-module-meta-info\">\n",
              " <span class=\"td-post-date\"><time class=\"entry-date updated td-module-date\" datetime=\"2022-01-14T05:02:00-05:00\">14 enero, 2022</time></span> </div>\n",
              " <div class=\"td-excerpt\">\n",
              "                     De acuerdo con el líder hotelero, incrementar el  Derecho de Saneamiento Ambiental que se cobra a los turistas dentro de la tarifa de hotel le restaría competitividad al destino.                </div>\n",
              " </div>]"
            ]
          },
          "metadata": {},
          "execution_count": 8
        }
      ]
    },
    {
      "cell_type": "code",
      "source": [
        "for i in range(len(news)):\n",
        "      url = \"https://lucesdelsiglo.com\" +news[i].find('a')['href'][30:]\n",
        "    \n",
        "      res = requests.get(url)\n",
        "      soup = BeautifulSoup(res.content,'html5lib')\n",
        "\n",
        "      news_page = soup.find('div',{'class':'td-module-meta-info'})\n",
        "      dates.append(news_page.get_text())\n",
        "\n",
        "      abs_pg = soup.find('div',{'class':'td-excerpt'})\n",
        "      abstract.append(abs_pg.get_text())\n",
        "      headlines.append(news[i].find('h3').get_text())\n",
        "      links.append(url)\n",
        "\n",
        "  "
      ],
      "metadata": {
        "colab": {
          "base_uri": "https://localhost:8080/",
          "height": 266
        },
        "id": "7WcS7LWPgCvr",
        "outputId": "942730e7-6deb-4f09-d32b-48d38957d4b6"
      },
      "execution_count": null,
      "outputs": [
        {
          "output_type": "error",
          "ename": "AttributeError",
          "evalue": "ignored",
          "traceback": [
            "\u001b[0;31m---------------------------------------------------------------------------\u001b[0m",
            "\u001b[0;31mAttributeError\u001b[0m                            Traceback (most recent call last)",
            "\u001b[0;32m<ipython-input-12-97c1117e728e>\u001b[0m in \u001b[0;36m<module>\u001b[0;34m()\u001b[0m\n\u001b[1;32m      9\u001b[0m \u001b[0;34m\u001b[0m\u001b[0m\n\u001b[1;32m     10\u001b[0m       \u001b[0mabs_pg\u001b[0m \u001b[0;34m=\u001b[0m \u001b[0msoup\u001b[0m\u001b[0;34m.\u001b[0m\u001b[0mfind\u001b[0m\u001b[0;34m(\u001b[0m\u001b[0;34m'div'\u001b[0m\u001b[0;34m,\u001b[0m\u001b[0;34m{\u001b[0m\u001b[0;34m'class'\u001b[0m\u001b[0;34m:\u001b[0m\u001b[0;34m'td-excerpt'\u001b[0m\u001b[0;34m}\u001b[0m\u001b[0;34m)\u001b[0m\u001b[0;34m\u001b[0m\u001b[0;34m\u001b[0m\u001b[0m\n\u001b[0;32m---> 11\u001b[0;31m       \u001b[0mabstract\u001b[0m\u001b[0;34m.\u001b[0m\u001b[0mappend\u001b[0m\u001b[0;34m(\u001b[0m\u001b[0mabs_pg\u001b[0m\u001b[0;34m.\u001b[0m\u001b[0mget_text\u001b[0m\u001b[0;34m(\u001b[0m\u001b[0;34m)\u001b[0m\u001b[0;34m)\u001b[0m\u001b[0;34m\u001b[0m\u001b[0;34m\u001b[0m\u001b[0m\n\u001b[0m\u001b[1;32m     12\u001b[0m       \u001b[0mheadlines\u001b[0m\u001b[0;34m.\u001b[0m\u001b[0mappend\u001b[0m\u001b[0;34m(\u001b[0m\u001b[0mnews\u001b[0m\u001b[0;34m[\u001b[0m\u001b[0mi\u001b[0m\u001b[0;34m]\u001b[0m\u001b[0;34m.\u001b[0m\u001b[0mfind\u001b[0m\u001b[0;34m(\u001b[0m\u001b[0;34m'h3'\u001b[0m\u001b[0;34m)\u001b[0m\u001b[0;34m.\u001b[0m\u001b[0mget_text\u001b[0m\u001b[0;34m(\u001b[0m\u001b[0;34m)\u001b[0m\u001b[0;34m)\u001b[0m\u001b[0;34m\u001b[0m\u001b[0;34m\u001b[0m\u001b[0m\n\u001b[1;32m     13\u001b[0m       \u001b[0mlinks\u001b[0m\u001b[0;34m.\u001b[0m\u001b[0mappend\u001b[0m\u001b[0;34m(\u001b[0m\u001b[0murl\u001b[0m\u001b[0;34m)\u001b[0m\u001b[0;34m\u001b[0m\u001b[0;34m\u001b[0m\u001b[0m\n",
            "\u001b[0;31mAttributeError\u001b[0m: 'NoneType' object has no attribute 'get_text'"
          ]
        }
      ]
    },
    {
      "cell_type": "code",
      "source": [
        "df = {'Headlines':headlines,'Abstract':abstract,'Links':links,'Date':dates}"
      ],
      "metadata": {
        "id": "t3SDDC9igYRH"
      },
      "execution_count": null,
      "outputs": []
    },
    {
      "cell_type": "code",
      "source": [
        "luces_news = pd.DataFrame(df)"
      ],
      "metadata": {
        "colab": {
          "base_uri": "https://localhost:8080/",
          "height": 358
        },
        "id": "bP6mcLNFh3A8",
        "outputId": "b2194eaa-f1fd-4171-d6b8-f139b4221ea3"
      },
      "execution_count": null,
      "outputs": [
        {
          "output_type": "error",
          "ename": "ValueError",
          "evalue": "ignored",
          "traceback": [
            "\u001b[0;31m---------------------------------------------------------------------------\u001b[0m",
            "\u001b[0;31mValueError\u001b[0m                                Traceback (most recent call last)",
            "\u001b[0;32m<ipython-input-14-c468028a1669>\u001b[0m in \u001b[0;36m<module>\u001b[0;34m()\u001b[0m\n\u001b[0;32m----> 1\u001b[0;31m \u001b[0mluces_news\u001b[0m \u001b[0;34m=\u001b[0m \u001b[0mpd\u001b[0m\u001b[0;34m.\u001b[0m\u001b[0mDataFrame\u001b[0m\u001b[0;34m(\u001b[0m\u001b[0mdf\u001b[0m\u001b[0;34m)\u001b[0m\u001b[0;34m\u001b[0m\u001b[0;34m\u001b[0m\u001b[0m\n\u001b[0m",
            "\u001b[0;32m/usr/local/lib/python3.7/dist-packages/pandas/core/frame.py\u001b[0m in \u001b[0;36m__init__\u001b[0;34m(self, data, index, columns, dtype, copy)\u001b[0m\n\u001b[1;32m    466\u001b[0m \u001b[0;34m\u001b[0m\u001b[0m\n\u001b[1;32m    467\u001b[0m         \u001b[0;32melif\u001b[0m \u001b[0misinstance\u001b[0m\u001b[0;34m(\u001b[0m\u001b[0mdata\u001b[0m\u001b[0;34m,\u001b[0m \u001b[0mdict\u001b[0m\u001b[0;34m)\u001b[0m\u001b[0;34m:\u001b[0m\u001b[0;34m\u001b[0m\u001b[0;34m\u001b[0m\u001b[0m\n\u001b[0;32m--> 468\u001b[0;31m             \u001b[0mmgr\u001b[0m \u001b[0;34m=\u001b[0m \u001b[0minit_dict\u001b[0m\u001b[0;34m(\u001b[0m\u001b[0mdata\u001b[0m\u001b[0;34m,\u001b[0m \u001b[0mindex\u001b[0m\u001b[0;34m,\u001b[0m \u001b[0mcolumns\u001b[0m\u001b[0;34m,\u001b[0m \u001b[0mdtype\u001b[0m\u001b[0;34m=\u001b[0m\u001b[0mdtype\u001b[0m\u001b[0;34m)\u001b[0m\u001b[0;34m\u001b[0m\u001b[0;34m\u001b[0m\u001b[0m\n\u001b[0m\u001b[1;32m    469\u001b[0m         \u001b[0;32melif\u001b[0m \u001b[0misinstance\u001b[0m\u001b[0;34m(\u001b[0m\u001b[0mdata\u001b[0m\u001b[0;34m,\u001b[0m \u001b[0mma\u001b[0m\u001b[0;34m.\u001b[0m\u001b[0mMaskedArray\u001b[0m\u001b[0;34m)\u001b[0m\u001b[0;34m:\u001b[0m\u001b[0;34m\u001b[0m\u001b[0;34m\u001b[0m\u001b[0m\n\u001b[1;32m    470\u001b[0m             \u001b[0;32mimport\u001b[0m \u001b[0mnumpy\u001b[0m\u001b[0;34m.\u001b[0m\u001b[0mma\u001b[0m\u001b[0;34m.\u001b[0m\u001b[0mmrecords\u001b[0m \u001b[0;32mas\u001b[0m \u001b[0mmrecords\u001b[0m\u001b[0;34m\u001b[0m\u001b[0;34m\u001b[0m\u001b[0m\n",
            "\u001b[0;32m/usr/local/lib/python3.7/dist-packages/pandas/core/internals/construction.py\u001b[0m in \u001b[0;36minit_dict\u001b[0;34m(data, index, columns, dtype)\u001b[0m\n\u001b[1;32m    281\u001b[0m             \u001b[0marr\u001b[0m \u001b[0;32mif\u001b[0m \u001b[0;32mnot\u001b[0m \u001b[0mis_datetime64tz_dtype\u001b[0m\u001b[0;34m(\u001b[0m\u001b[0marr\u001b[0m\u001b[0;34m)\u001b[0m \u001b[0;32melse\u001b[0m \u001b[0marr\u001b[0m\u001b[0;34m.\u001b[0m\u001b[0mcopy\u001b[0m\u001b[0;34m(\u001b[0m\u001b[0;34m)\u001b[0m \u001b[0;32mfor\u001b[0m \u001b[0marr\u001b[0m \u001b[0;32min\u001b[0m \u001b[0marrays\u001b[0m\u001b[0;34m\u001b[0m\u001b[0;34m\u001b[0m\u001b[0m\n\u001b[1;32m    282\u001b[0m         ]\n\u001b[0;32m--> 283\u001b[0;31m     \u001b[0;32mreturn\u001b[0m \u001b[0marrays_to_mgr\u001b[0m\u001b[0;34m(\u001b[0m\u001b[0marrays\u001b[0m\u001b[0;34m,\u001b[0m \u001b[0mdata_names\u001b[0m\u001b[0;34m,\u001b[0m \u001b[0mindex\u001b[0m\u001b[0;34m,\u001b[0m \u001b[0mcolumns\u001b[0m\u001b[0;34m,\u001b[0m \u001b[0mdtype\u001b[0m\u001b[0;34m=\u001b[0m\u001b[0mdtype\u001b[0m\u001b[0;34m)\u001b[0m\u001b[0;34m\u001b[0m\u001b[0;34m\u001b[0m\u001b[0m\n\u001b[0m\u001b[1;32m    284\u001b[0m \u001b[0;34m\u001b[0m\u001b[0m\n\u001b[1;32m    285\u001b[0m \u001b[0;34m\u001b[0m\u001b[0m\n",
            "\u001b[0;32m/usr/local/lib/python3.7/dist-packages/pandas/core/internals/construction.py\u001b[0m in \u001b[0;36marrays_to_mgr\u001b[0;34m(arrays, arr_names, index, columns, dtype, verify_integrity)\u001b[0m\n\u001b[1;32m     76\u001b[0m         \u001b[0;31m# figure out the index, if necessary\u001b[0m\u001b[0;34m\u001b[0m\u001b[0;34m\u001b[0m\u001b[0;34m\u001b[0m\u001b[0m\n\u001b[1;32m     77\u001b[0m         \u001b[0;32mif\u001b[0m \u001b[0mindex\u001b[0m \u001b[0;32mis\u001b[0m \u001b[0;32mNone\u001b[0m\u001b[0;34m:\u001b[0m\u001b[0;34m\u001b[0m\u001b[0;34m\u001b[0m\u001b[0m\n\u001b[0;32m---> 78\u001b[0;31m             \u001b[0mindex\u001b[0m \u001b[0;34m=\u001b[0m \u001b[0mextract_index\u001b[0m\u001b[0;34m(\u001b[0m\u001b[0marrays\u001b[0m\u001b[0;34m)\u001b[0m\u001b[0;34m\u001b[0m\u001b[0;34m\u001b[0m\u001b[0m\n\u001b[0m\u001b[1;32m     79\u001b[0m         \u001b[0;32melse\u001b[0m\u001b[0;34m:\u001b[0m\u001b[0;34m\u001b[0m\u001b[0;34m\u001b[0m\u001b[0m\n\u001b[1;32m     80\u001b[0m             \u001b[0mindex\u001b[0m \u001b[0;34m=\u001b[0m \u001b[0mensure_index\u001b[0m\u001b[0;34m(\u001b[0m\u001b[0mindex\u001b[0m\u001b[0;34m)\u001b[0m\u001b[0;34m\u001b[0m\u001b[0;34m\u001b[0m\u001b[0m\n",
            "\u001b[0;32m/usr/local/lib/python3.7/dist-packages/pandas/core/internals/construction.py\u001b[0m in \u001b[0;36mextract_index\u001b[0;34m(data)\u001b[0m\n\u001b[1;32m    395\u001b[0m             \u001b[0mlengths\u001b[0m \u001b[0;34m=\u001b[0m \u001b[0mlist\u001b[0m\u001b[0;34m(\u001b[0m\u001b[0mset\u001b[0m\u001b[0;34m(\u001b[0m\u001b[0mraw_lengths\u001b[0m\u001b[0;34m)\u001b[0m\u001b[0;34m)\u001b[0m\u001b[0;34m\u001b[0m\u001b[0;34m\u001b[0m\u001b[0m\n\u001b[1;32m    396\u001b[0m             \u001b[0;32mif\u001b[0m \u001b[0mlen\u001b[0m\u001b[0;34m(\u001b[0m\u001b[0mlengths\u001b[0m\u001b[0;34m)\u001b[0m \u001b[0;34m>\u001b[0m \u001b[0;36m1\u001b[0m\u001b[0;34m:\u001b[0m\u001b[0;34m\u001b[0m\u001b[0;34m\u001b[0m\u001b[0m\n\u001b[0;32m--> 397\u001b[0;31m                 \u001b[0;32mraise\u001b[0m \u001b[0mValueError\u001b[0m\u001b[0;34m(\u001b[0m\u001b[0;34m\"arrays must all be same length\"\u001b[0m\u001b[0;34m)\u001b[0m\u001b[0;34m\u001b[0m\u001b[0;34m\u001b[0m\u001b[0m\n\u001b[0m\u001b[1;32m    398\u001b[0m \u001b[0;34m\u001b[0m\u001b[0m\n\u001b[1;32m    399\u001b[0m             \u001b[0;32mif\u001b[0m \u001b[0mhave_dicts\u001b[0m\u001b[0;34m:\u001b[0m\u001b[0;34m\u001b[0m\u001b[0;34m\u001b[0m\u001b[0m\n",
            "\u001b[0;31mValueError\u001b[0m: arrays must all be same length"
          ]
        }
      ]
    },
    {
      "cell_type": "code",
      "source": [
        ""
      ],
      "metadata": {
        "id": "213rETieh-i8"
      },
      "execution_count": null,
      "outputs": []
    }
  ]
}