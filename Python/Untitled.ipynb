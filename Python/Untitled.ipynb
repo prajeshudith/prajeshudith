{
 "cells": [
  {
   "cell_type": "code",
   "execution_count": null,
   "id": "df1c2c0a",
   "metadata": {},
   "outputs": [],
   "source": [
    "import pandas as pd\n",
    "import numpy as np\n",
    "import operator\n",
    "from __future__ import unicode_literals, print_function\n",
    "import math\n",
    "import spacy\n",
    "from spacy.lang.en import English\n",
    "from transformers import pipeline"
   ]
  },
  {
   "cell_type": "code",
   "execution_count": null,
   "id": "3582352f",
   "metadata": {},
   "outputs": [],
   "source": [
    "pip install spacy"
   ]
  },
  {
   "cell_type": "code",
   "execution_count": 5,
   "id": "c8285385",
   "metadata": {},
   "outputs": [],
   "source": [
    "class Sentiment:\n",
    "# Constructor with raw text passed to the init function\n",
    "    def __init__(self, raw_text):\n",
    "        self.raw_text=raw_text.lower()\n",
    " \n",
    "def breakSentence(self, text_content):\n",
    "     self.text_content=text_content\n",
    "     nlp = English()\n",
    "     nlp.add_pipe(nlp.create_pipe('sentencizer')) \n",
    "     doc = nlp(self.text_content)\n",
    "     sentences = [sent.string.strip() for sent in doc.sents]\n",
    "     return sentences"
   ]
  },
  {
   "cell_type": "code",
   "execution_count": 6,
   "id": "53ecf5c9",
   "metadata": {},
   "outputs": [],
   "source": [
    "def findRawTextPolarity(self):\n",
    "    confidence_level=0.9\n",
    "    nlpSA = pipeline(\"sentiment-analysis\")\n",
    "    sentences=self.breakSentence(self.raw_text)\n",
    "    print('Before: ', len(sentences))\n",
    "    result = [{'sentence' : sentences[i],'label':nlpSA(sentences[i])[0]['label']} for i in range(len(sentences)) if nlpSA(sentences[i])[0]['score']>confidence_level]\n",
    "    print('After: ', len(result))\n",
    "    sentences= [result[i]['sentence'].lower() for i in range(len(result))]\n",
    "    labels= [result[i]['label'] for i in range(len(result))] \n",
    "    map_polarity={'NEGATIVE': -1, 'POSITIVE': 1}\n",
    "    matrix_result=[map_polarity[k] for k in labels]\n",
    "    return sentences, matrix_result"
   ]
  },
  {
   "cell_type": "code",
   "execution_count": 7,
   "id": "e67d0a5e",
   "metadata": {},
   "outputs": [],
   "source": [
    "def findPeak(self):\n",
    "    summarizer = pipeline(\"summarization\")\n",
    "    peak = (summarizer(self.raw_text))[0]['summary_text']\n",
    "    peak_sentences=self.breakSentence(peak)\n",
    "    return peak_sentences\n"
   ]
  },
  {
   "cell_type": "code",
   "execution_count": 8,
   "id": "896734e7",
   "metadata": {},
   "outputs": [],
   "source": [
    "def getPeakposition(self):\n",
    "    peak_weight_red=0.9\n",
    "    peak=self.findPeak()\n",
    "    sentences = self.findRawTextPolarity()[0]\n",
    "    matches=[[1 if operator.contains(s.replace(' .', ''),p.replace(' .', '')) else 0 for s in sentences] for p in peak]\n",
    "    match_filter=[m for m in matches if sum(m)>0]\n",
    "    sum_matrix=np.sum(np.array(match_filter),0)\n",
    "    map_polarity={1: 1, 0: 1* peak_weight_red}\n",
    "    matrix_result=[map_polarity[k] for k in sum_matrix]\n",
    "    return matrix_result"
   ]
  },
  {
   "cell_type": "code",
   "execution_count": 9,
   "id": "b28b3e4d",
   "metadata": {},
   "outputs": [],
   "source": [
    "def textWeights(self):\n",
    "    decay=0.01\n",
    "    matrix=self.findRawTextPolarity()\n",
    "    matrix_size=len(matrix[1])\n",
    "    decay_matrix=[1-(decay*i) for i in range(matrix_size)]\n",
    "    return decay_matrix"
   ]
  },
  {
   "cell_type": "code",
   "execution_count": 10,
   "id": "71c3554c",
   "metadata": {},
   "outputs": [],
   "source": [
    "def getFinalScore(self):\n",
    "    peakposition=self.getPeakposition()\n",
    "    decay=self.textWeightsexp()\n",
    "    sent_polarity=self.findRawTextPolarity()[1]\n",
    "    fin_score = [a*b*c for a,b,c in zip(peakposition,decay, sent_polarity)]\n",
    "    fin_sent_fct = lambda x: 'POSITIVE' if x>0.5 else ('NEUTRAL' if 0.49>x>-0.5 else 'NEGATIVE')\n",
    "    fin_sent=fin_sent_fct(np.mean(fin_score))\n",
    "    print('This document is categorized as {} with a final score of {}'.format(fin_sent, np.mean(fin_score)))\n"
   ]
  },
  {
   "cell_type": "code",
   "execution_count": 15,
   "id": "fe3769cc",
   "metadata": {},
   "outputs": [],
   "source": [
    "raw_text = 'Pujara, who has not scored a hundred for more than two years now, scored an attacking 53 at the Wanderers. Rahane, on the other hand, scored his first fifty in four Tests. Kohli said their experience in overseas conditions is \"priceless.\"'"
   ]
  },
  {
   "cell_type": "code",
   "execution_count": 16,
   "id": "ada99a78",
   "metadata": {},
   "outputs": [
    {
     "ename": "TypeError",
     "evalue": "breakSentence() missing 1 required positional argument: 'text_content'",
     "output_type": "error",
     "traceback": [
      "\u001b[0;31m---------------------------------------------------------------------------\u001b[0m",
      "\u001b[0;31mTypeError\u001b[0m                                 Traceback (most recent call last)",
      "\u001b[0;32m/var/folders/pt/qt2qbnm17j7grlckqpxrsbd80000gn/T/ipykernel_1228/2800768939.py\u001b[0m in \u001b[0;36m<module>\u001b[0;34m\u001b[0m\n\u001b[0;32m----> 1\u001b[0;31m \u001b[0mbreakSentence\u001b[0m\u001b[0;34m(\u001b[0m\u001b[0mraw_text\u001b[0m\u001b[0;34m)\u001b[0m\u001b[0;34m\u001b[0m\u001b[0;34m\u001b[0m\u001b[0m\n\u001b[0m",
      "\u001b[0;31mTypeError\u001b[0m: breakSentence() missing 1 required positional argument: 'text_content'"
     ]
    }
   ],
   "source": [
    "breakSentence(raw_text)"
   ]
  },
  {
   "cell_type": "code",
   "execution_count": null,
   "id": "64a4539e",
   "metadata": {},
   "outputs": [],
   "source": []
  }
 ],
 "metadata": {
  "kernelspec": {
   "display_name": "Python 3 (ipykernel)",
   "language": "python",
   "name": "python3"
  },
  "language_info": {
   "codemirror_mode": {
    "name": "ipython",
    "version": 3
   },
   "file_extension": ".py",
   "mimetype": "text/x-python",
   "name": "python",
   "nbconvert_exporter": "python",
   "pygments_lexer": "ipython3",
   "version": "3.9.7"
  }
 },
 "nbformat": 4,
 "nbformat_minor": 5
}
