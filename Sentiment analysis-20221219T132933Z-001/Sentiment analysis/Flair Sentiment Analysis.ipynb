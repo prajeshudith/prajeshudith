{
 "cells": [
  {
   "cell_type": "code",
   "execution_count": 3,
   "metadata": {},
   "outputs": [
    {
     "name": "stderr",
     "output_type": "stream",
     "text": [
      "WARNING: Ignoring invalid distribution -umpy (c:\\users\\srini\\anaconda3\\lib\\site-packages)\n",
      "WARNING: Ignoring invalid distribution -umpy (c:\\users\\srini\\anaconda3\\lib\\site-packages)\n",
      "WARNING: Ignoring invalid distribution -umpy (c:\\users\\srini\\anaconda3\\lib\\site-packages)\n",
      "    WARNING: Ignoring invalid distribution -umpy (c:\\users\\srini\\anaconda3\\lib\\site-packages)\n",
      "    WARNING: Ignoring invalid distribution -umpy (c:\\users\\srini\\anaconda3\\lib\\site-packages)\n",
      "    WARNING: Ignoring invalid distribution -umpy (c:\\users\\srini\\anaconda3\\lib\\site-packages)\n",
      "    WARNING: Ignoring invalid distribution -umpy (c:\\users\\srini\\anaconda3\\lib\\site-packages)\n",
      "WARNING: Ignoring invalid distribution -umpy (c:\\users\\srini\\anaconda3\\lib\\site-packages)\n",
      "WARNING: Ignoring invalid distribution -umpy (c:\\users\\srini\\anaconda3\\lib\\site-packages)\n",
      "WARNING: Ignoring invalid distribution -umpy (c:\\users\\srini\\anaconda3\\lib\\site-packages)\n",
      "WARNING: Ignoring invalid distribution -umpy (c:\\users\\srini\\anaconda3\\lib\\site-packages)\n",
      "WARNING: Ignoring invalid distribution -umpy (c:\\users\\srini\\anaconda3\\lib\\site-packages)\n",
      "WARNING: Ignoring invalid distribution -umpy (c:\\users\\srini\\anaconda3\\lib\\site-packages)\n",
      "WARNING: Ignoring invalid distribution -umpy (c:\\users\\srini\\anaconda3\\lib\\site-packages)\n",
      "WARNING: Ignoring invalid distribution -umpy (c:\\users\\srini\\anaconda3\\lib\\site-packages)\n",
      "WARNING: Ignoring invalid distribution -umpy (c:\\users\\srini\\anaconda3\\lib\\site-packages)\n",
      "WARNING: Ignoring invalid distribution -umpy (c:\\users\\srini\\anaconda3\\lib\\site-packages)\n",
      "WARNING: Ignoring invalid distribution -umpy (c:\\users\\srini\\anaconda3\\lib\\site-packages)\n",
      "WARNING: Ignoring invalid distribution -umpy (c:\\users\\srini\\anaconda3\\lib\\site-packages)\n",
      "WARNING: Ignoring invalid distribution -umpy (c:\\users\\srini\\anaconda3\\lib\\site-packages)\n",
      "WARNING: Ignoring invalid distribution -umpy (c:\\users\\srini\\anaconda3\\lib\\site-packages)\n",
      "WARNING: Ignoring invalid distribution -umpy (c:\\users\\srini\\anaconda3\\lib\\site-packages)\n",
      "WARNING: Ignoring invalid distribution -umpy (c:\\users\\srini\\anaconda3\\lib\\site-packages)\n",
      "WARNING: Ignoring invalid distribution -umpy (c:\\users\\srini\\anaconda3\\lib\\site-packages)\n",
      "WARNING: Ignoring invalid distribution -umpy (c:\\users\\srini\\anaconda3\\lib\\site-packages)\n",
      "WARNING: Ignoring invalid distribution -umpy (c:\\users\\srini\\anaconda3\\lib\\site-packages)\n",
      "WARNING: Ignoring invalid distribution -umpy (c:\\users\\srini\\anaconda3\\lib\\site-packages)\n",
      "WARNING: Ignoring invalid distribution -umpy (c:\\users\\srini\\anaconda3\\lib\\site-packages)\n",
      "WARNING: Ignoring invalid distribution -umpy (c:\\users\\srini\\anaconda3\\lib\\site-packages)\n",
      "ERROR: pip's dependency resolver does not currently take into account all the packages that are installed. This behaviour is the source of the following dependency conflicts.\n",
      "velocyto 0.17.17 requires loompy, which is not installed.\n",
      "velocyto 0.17.17 requires pysam, which is not installed.\n",
      "conda 4.10.3 requires ruamel_yaml_conda>=0.11.14, which is not installed.\n",
      "WARNING: Ignoring invalid distribution -umpy (c:\\users\\srini\\anaconda3\\lib\\site-packages)\n",
      "WARNING: Ignoring invalid distribution -umpy (c:\\users\\srini\\anaconda3\\lib\\site-packages)\n"
     ]
    },
    {
     "name": "stdout",
     "output_type": "stream",
     "text": [
      "Collecting flair\n",
      "  Downloading flair-0.10-py3-none-any.whl (322 kB)\n",
      "Collecting bpemb>=0.3.2\n",
      "  Downloading bpemb-0.3.3-py3-none-any.whl (19 kB)\n",
      "Collecting konoha<5.0.0,>=4.0.0\n",
      "  Downloading konoha-4.6.5-py3-none-any.whl (20 kB)\n",
      "Collecting more-itertools~=8.8.0\n",
      "  Downloading more_itertools-8.8.0-py3-none-any.whl (48 kB)\n",
      "Requirement already satisfied: sqlitedict>=1.6.0 in c:\\users\\srini\\anaconda3\\lib\\site-packages (from flair) (1.7.0)\n",
      "Collecting mpld3==0.3\n",
      "  Downloading mpld3-0.3.tar.gz (788 kB)\n",
      "  Preparing metadata (setup.py): started\n",
      "  Preparing metadata (setup.py): finished with status 'done'\n",
      "Requirement already satisfied: tqdm>=4.26.0 in c:\\users\\srini\\anaconda3\\lib\\site-packages (from flair) (4.47.0)\n",
      "Requirement already satisfied: matplotlib>=2.2.3 in c:\\users\\srini\\anaconda3\\lib\\site-packages (from flair) (3.2.2)\n",
      "Collecting torch!=1.8,>=1.5.0\n",
      "  Downloading torch-1.10.1-cp38-cp38-win_amd64.whl (226.6 MB)\n",
      "Collecting tabulate\n",
      "  Downloading tabulate-0.8.9-py3-none-any.whl (25 kB)\n",
      "Requirement already satisfied: lxml in c:\\users\\srini\\anaconda3\\lib\\site-packages (from flair) (4.5.2)\n",
      "Collecting langdetect\n",
      "  Downloading langdetect-1.0.9.tar.gz (981 kB)\n",
      "  Preparing metadata (setup.py): started\n",
      "  Preparing metadata (setup.py): finished with status 'done'\n",
      "Collecting sentencepiece==0.1.95\n",
      "  Downloading sentencepiece-0.1.95-cp38-cp38-win_amd64.whl (1.2 MB)\n",
      "Requirement already satisfied: transformers>=4.0.0 in c:\\users\\srini\\anaconda3\\lib\\site-packages (from flair) (4.15.0)\n",
      "Requirement already satisfied: python-dateutil>=2.6.1 in c:\\users\\srini\\anaconda3\\lib\\site-packages (from flair) (2.8.1)\n",
      "Collecting conllu>=4.0\n",
      "  Downloading conllu-4.4.1-py2.py3-none-any.whl (15 kB)\n",
      "Collecting janome\n",
      "  Downloading Janome-0.4.1-py2.py3-none-any.whl (19.7 MB)\n",
      "Collecting segtok>=1.5.7\n",
      "  Downloading segtok-1.5.11-py3-none-any.whl (24 kB)\n",
      "Collecting ftfy\n",
      "  Downloading ftfy-6.0.3.tar.gz (64 kB)\n",
      "  Preparing metadata (setup.py): started\n",
      "  Preparing metadata (setup.py): finished with status 'done'\n",
      "Collecting gensim>=3.4.0\n",
      "  Downloading gensim-4.1.2-cp38-cp38-win_amd64.whl (24.0 MB)\n",
      "Requirement already satisfied: regex in c:\\users\\srini\\anaconda3\\lib\\site-packages (from flair) (2020.6.8)\n",
      "Requirement already satisfied: huggingface-hub in c:\\users\\srini\\anaconda3\\lib\\site-packages (from flair) (0.2.1)\n",
      "Collecting gdown==3.12.2\n",
      "  Downloading gdown-3.12.2.tar.gz (8.2 kB)\n",
      "  Installing build dependencies: started\n",
      "  Installing build dependencies: finished with status 'done'\n",
      "  Getting requirements to build wheel: started\n",
      "  Getting requirements to build wheel: finished with status 'done'\n",
      "  Preparing metadata (pyproject.toml): started\n",
      "  Preparing metadata (pyproject.toml): finished with status 'done'\n",
      "Collecting deprecated>=1.2.4\n",
      "  Downloading Deprecated-1.2.13-py2.py3-none-any.whl (9.6 kB)\n",
      "Collecting wikipedia-api\n",
      "  Downloading Wikipedia-API-0.5.4.tar.gz (18 kB)\n",
      "  Preparing metadata (setup.py): started\n",
      "  Preparing metadata (setup.py): finished with status 'done'\n",
      "Requirement already satisfied: scikit-learn>=0.21.3 in c:\\users\\srini\\anaconda3\\lib\\site-packages (from flair) (0.24.2)\n",
      "Requirement already satisfied: six in c:\\users\\srini\\anaconda3\\lib\\site-packages (from gdown==3.12.2->flair) (1.16.0)\n",
      "Requirement already satisfied: requests[socks] in c:\\users\\srini\\anaconda3\\lib\\site-packages (from gdown==3.12.2->flair) (2.24.0)\n",
      "Requirement already satisfied: filelock in c:\\users\\srini\\anaconda3\\lib\\site-packages (from gdown==3.12.2->flair) (3.0.12)\n",
      "Requirement already satisfied: numpy in c:\\users\\srini\\anaconda3\\lib\\site-packages (from bpemb>=0.3.2->flair) (1.21.1+mkl)\n",
      "Requirement already satisfied: wrapt<2,>=1.10 in c:\\users\\srini\\anaconda3\\lib\\site-packages (from deprecated>=1.2.4->flair) (1.11.2)\n",
      "Collecting Cython==0.29.23\n",
      "  Downloading Cython-0.29.23-cp38-cp38-win_amd64.whl (1.7 MB)\n",
      "Requirement already satisfied: smart-open>=1.8.1 in c:\\users\\srini\\anaconda3\\lib\\site-packages (from gensim>=3.4.0->flair) (5.2.1)\n",
      "Requirement already satisfied: scipy>=0.18.1 in c:\\users\\srini\\anaconda3\\lib\\site-packages (from gensim>=3.4.0->flair) (1.6.2)\n",
      "Collecting requests\n",
      "  Downloading requests-2.27.1-py2.py3-none-any.whl (63 kB)\n",
      "Collecting importlib-metadata<4.0.0,>=3.7.0\n",
      "  Downloading importlib_metadata-3.10.1-py3-none-any.whl (14 kB)\n",
      "Collecting overrides<4.0.0,>=3.0.0\n",
      "  Downloading overrides-3.1.0.tar.gz (11 kB)\n",
      "  Preparing metadata (setup.py): started\n",
      "  Preparing metadata (setup.py): finished with status 'done'\n",
      "Requirement already satisfied: cycler>=0.10 in c:\\users\\srini\\anaconda3\\lib\\site-packages (from matplotlib>=2.2.3->flair) (0.10.0)\n",
      "Requirement already satisfied: kiwisolver>=1.0.1 in c:\\users\\srini\\anaconda3\\lib\\site-packages (from matplotlib>=2.2.3->flair) (1.2.0)\n",
      "Requirement already satisfied: pyparsing!=2.0.4,!=2.1.2,!=2.1.6,>=2.0.1 in c:\\users\\srini\\anaconda3\\lib\\site-packages (from matplotlib>=2.2.3->flair) (2.4.7)\n",
      "Requirement already satisfied: joblib>=0.11 in c:\\users\\srini\\anaconda3\\lib\\site-packages (from scikit-learn>=0.21.3->flair) (0.16.0)\n",
      "Requirement already satisfied: threadpoolctl>=2.0.0 in c:\\users\\srini\\anaconda3\\lib\\site-packages (from scikit-learn>=0.21.3->flair) (2.1.0)\n",
      "Requirement already satisfied: typing-extensions in c:\\users\\srini\\anaconda3\\lib\\site-packages (from torch!=1.8,>=1.5.0->flair) (4.0.1)\n",
      "Requirement already satisfied: tokenizers<0.11,>=0.10.1 in c:\\users\\srini\\anaconda3\\lib\\site-packages (from transformers>=4.0.0->flair) (0.10.3)\n",
      "Requirement already satisfied: sacremoses in c:\\users\\srini\\anaconda3\\lib\\site-packages (from transformers>=4.0.0->flair) (0.0.47)\n",
      "Requirement already satisfied: pyyaml>=5.1 in c:\\users\\srini\\anaconda3\\lib\\site-packages (from transformers>=4.0.0->flair) (5.3.1)\n",
      "Requirement already satisfied: packaging>=20.0 in c:\\users\\srini\\anaconda3\\lib\\site-packages (from transformers>=4.0.0->flair) (21.3)\n",
      "Requirement already satisfied: wcwidth in c:\\users\\srini\\anaconda3\\lib\\site-packages (from ftfy->flair) (0.2.5)\n",
      "Requirement already satisfied: zipp>=0.5 in c:\\users\\srini\\anaconda3\\lib\\site-packages (from importlib-metadata<4.0.0,>=3.7.0->konoha<5.0.0,>=4.0.0->flair) (3.1.0)\n",
      "Requirement already satisfied: certifi>=2017.4.17 in c:\\users\\srini\\anaconda3\\lib\\site-packages (from requests->bpemb>=0.3.2->flair) (2021.5.30)\n",
      "Collecting charset-normalizer~=2.0.0\n",
      "  Downloading charset_normalizer-2.0.10-py3-none-any.whl (39 kB)\n",
      "Requirement already satisfied: urllib3<1.27,>=1.21.1 in c:\\users\\srini\\anaconda3\\lib\\site-packages (from requests->bpemb>=0.3.2->flair) (1.25.11)\n",
      "Requirement already satisfied: idna<4,>=2.5 in c:\\users\\srini\\anaconda3\\lib\\site-packages (from requests->bpemb>=0.3.2->flair) (2.10)\n",
      "Requirement already satisfied: PySocks!=1.5.7,>=1.5.6 in c:\\users\\srini\\anaconda3\\lib\\site-packages (from requests->bpemb>=0.3.2->flair) (1.7.1)\n",
      "Requirement already satisfied: click in c:\\users\\srini\\anaconda3\\lib\\site-packages (from sacremoses->transformers>=4.0.0->flair) (8.0.1)\n",
      "Requirement already satisfied: colorama in c:\\users\\srini\\anaconda3\\lib\\site-packages (from click->sacremoses->transformers>=4.0.0->flair) (0.4.3)\n",
      "Building wheels for collected packages: gdown, mpld3, ftfy, langdetect, wikipedia-api, overrides\n",
      "  Building wheel for gdown (pyproject.toml): started\n",
      "  Building wheel for gdown (pyproject.toml): finished with status 'done'\n",
      "  Created wheel for gdown: filename=gdown-3.12.2-py3-none-any.whl size=9692 sha256=ac61496106abb01fd77530b2cf7cc44ea0af43695a8f18ca2acc3f184cdc3560\n",
      "  Stored in directory: c:\\users\\srini\\appdata\\local\\pip\\cache\\wheels\\e2\\62\\1e\\926d1ebe7b1e733c78d627fd288d01b83feaf67efc06e0e4c3\n",
      "  Building wheel for mpld3 (setup.py): started\n",
      "  Building wheel for mpld3 (setup.py): finished with status 'done'\n",
      "  Created wheel for mpld3: filename=mpld3-0.3-py3-none-any.whl size=116682 sha256=8bebca125eba8f2839e292dcc9009cf1b4d24400c9fb61007dac728361b041db\n",
      "  Stored in directory: c:\\users\\srini\\appdata\\local\\pip\\cache\\wheels\\3d\\9f\\9d\\d806a20bd97bc7076d724fa3e69fa5be61836ba16b2ffa6126\n",
      "  Building wheel for ftfy (setup.py): started\n",
      "  Building wheel for ftfy (setup.py): finished with status 'done'\n",
      "  Created wheel for ftfy: filename=ftfy-6.0.3-py3-none-any.whl size=41920 sha256=122acf68dcda800d7461ba5744d08230620b5172e75e0b78b91a62ed570314d2\n",
      "  Stored in directory: c:\\users\\srini\\appdata\\local\\pip\\cache\\wheels\\7f\\40\\63\\4bf603cec3ecc4a26985405834cb47eb8368bfa59e15dde046\n",
      "  Building wheel for langdetect (setup.py): started\n",
      "  Building wheel for langdetect (setup.py): finished with status 'done'\n",
      "  Created wheel for langdetect: filename=langdetect-1.0.9-py3-none-any.whl size=993226 sha256=6bb84349b34a29a92ca6a376be23128052e4260a14a42a65d833d604ae94a1c2\n",
      "  Stored in directory: c:\\users\\srini\\appdata\\local\\pip\\cache\\wheels\\13\\c7\\b0\\79f66658626032e78fc1a83103690ef6797d551cb22e56e734\n",
      "  Building wheel for wikipedia-api (setup.py): started\n",
      "  Building wheel for wikipedia-api (setup.py): finished with status 'done'\n",
      "  Created wheel for wikipedia-api: filename=Wikipedia_API-0.5.4-py3-none-any.whl size=13467 sha256=ef0952348ae084e150ba24a11207df052df75ae4f18d0b5aa7e5692a88648d65\n",
      "  Stored in directory: c:\\users\\srini\\appdata\\local\\pip\\cache\\wheels\\ed\\88\\e3\\da3d4d73cb91d659488cfa25913b84bbc26febec99d257bce9\n",
      "  Building wheel for overrides (setup.py): started\n",
      "  Building wheel for overrides (setup.py): finished with status 'done'\n",
      "  Created wheel for overrides: filename=overrides-3.1.0-py3-none-any.whl size=10178 sha256=6547d3548ca1559500ef41d8193cd6e45acf2b4bcce54367da985bac326f1a7e\n",
      "  Stored in directory: c:\\users\\srini\\appdata\\local\\pip\\cache\\wheels\\6a\\4f\\72\\28857f75625b263e2e3f5ab2fc4416c0a85960ac6485007eaa\n",
      "Successfully built gdown mpld3 ftfy langdetect wikipedia-api overrides\n",
      "Installing collected packages: charset-normalizer, requests, Cython, sentencepiece, overrides, importlib-metadata, gensim, wikipedia-api, torch, tabulate, segtok, mpld3, more-itertools, langdetect, konoha, janome, gdown, ftfy, deprecated, conllu, bpemb, flair\n",
      "  Attempting uninstall: requests\n",
      "    Found existing installation: requests 2.24.0\n",
      "    Uninstalling requests-2.24.0:\n",
      "      Successfully uninstalled requests-2.24.0\n",
      "  Attempting uninstall: Cython\n",
      "    Found existing installation: Cython 0.29.24\n",
      "    Uninstalling Cython-0.29.24:\n",
      "      Successfully uninstalled Cython-0.29.24\n",
      "  Attempting uninstall: importlib-metadata\n",
      "    Found existing installation: importlib-metadata 1.7.0\n",
      "    Uninstalling importlib-metadata-1.7.0:\n",
      "      Successfully uninstalled importlib-metadata-1.7.0\n",
      "  Attempting uninstall: more-itertools\n",
      "    Found existing installation: more-itertools 8.4.0\n",
      "    Uninstalling more-itertools-8.4.0:\n",
      "      Successfully uninstalled more-itertools-8.4.0\n",
      "Successfully installed Cython-0.29.23 bpemb-0.3.3 charset-normalizer-2.0.10 conllu-4.4.1 deprecated-1.2.13 flair-0.10 ftfy-6.0.3 gdown-3.12.2 gensim-4.1.2 importlib-metadata-3.10.1 janome-0.4.1 konoha-4.6.5 langdetect-1.0.9 more-itertools-8.8.0 mpld3-0.3 overrides-3.1.0 requests-2.27.1 segtok-1.5.11 sentencepiece-0.1.95 tabulate-0.8.9 torch-1.10.1 wikipedia-api-0.5.4\n",
      "Collecting flair\n",
      "  Using cached flair-0.10-py3-none-any.whl (322 kB)\n",
      "Collecting gdown==3.12.2\n",
      "  Using cached gdown-3.12.2-py3-none-any.whl\n",
      "Collecting langdetect\n",
      "  Using cached langdetect-1.0.9-py3-none-any.whl\n",
      "Collecting segtok>=1.5.7\n",
      "  Using cached segtok-1.5.11-py3-none-any.whl (24 kB)\n",
      "Requirement already satisfied: lxml in c:\\users\\srini\\anaconda3\\lib\\site-packages (from flair) (4.5.2)\n",
      "Requirement already satisfied: sentencepiece==0.1.95 in c:\\users\\srini\\anaconda3\\lib\\site-packages (from flair) (0.1.95)\n",
      "Requirement already satisfied: matplotlib>=2.2.3 in c:\\users\\srini\\anaconda3\\lib\\site-packages (from flair) (3.2.2)\n",
      "Collecting mpld3==0.3\n",
      "  Using cached mpld3-0.3-py3-none-any.whl\n",
      "Requirement already satisfied: scikit-learn>=0.21.3 in c:\\users\\srini\\anaconda3\\lib\\site-packages (from flair) (0.24.2)\n",
      "Requirement already satisfied: wikipedia-api in c:\\users\\srini\\anaconda3\\lib\\site-packages (from flair) (0.5.4)\n",
      "Requirement already satisfied: tqdm>=4.26.0 in c:\\users\\srini\\anaconda3\\lib\\site-packages (from flair) (4.47.0)\n",
      "Requirement already satisfied: huggingface-hub in c:\\users\\srini\\anaconda3\\lib\\site-packages (from flair) (0.2.1)\n",
      "Requirement already satisfied: torch!=1.8,>=1.5.0 in c:\\users\\srini\\anaconda3\\lib\\site-packages (from flair) (1.10.1)\n",
      "Collecting deprecated>=1.2.4\n",
      "  Using cached Deprecated-1.2.13-py2.py3-none-any.whl (9.6 kB)\n",
      "Collecting janome\n",
      "  Using cached Janome-0.4.1-py2.py3-none-any.whl (19.7 MB)\n",
      "Requirement already satisfied: python-dateutil>=2.6.1 in c:\\users\\srini\\anaconda3\\lib\\site-packages (from flair) (2.8.1)\n",
      "Requirement already satisfied: sqlitedict>=1.6.0 in c:\\users\\srini\\anaconda3\\lib\\site-packages (from flair) (1.7.0)\n",
      "Collecting bpemb>=0.3.2\n",
      "  Using cached bpemb-0.3.3-py3-none-any.whl (19 kB)\n",
      "Collecting more-itertools~=8.8.0\n",
      "  Using cached more_itertools-8.8.0-py3-none-any.whl (48 kB)\n",
      "Requirement already satisfied: regex in c:\\users\\srini\\anaconda3\\lib\\site-packages (from flair) (2020.6.8)\n",
      "Requirement already satisfied: gensim>=3.4.0 in c:\\users\\srini\\anaconda3\\lib\\site-packages (from flair) (4.1.2)\n",
      "Collecting tabulate\n",
      "  Using cached tabulate-0.8.9-py3-none-any.whl (25 kB)\n",
      "Collecting ftfy\n",
      "  Using cached ftfy-6.0.3-py3-none-any.whl\n",
      "Collecting conllu>=4.0\n",
      "  Using cached conllu-4.4.1-py2.py3-none-any.whl (15 kB)\n",
      "Collecting konoha<5.0.0,>=4.0.0\n",
      "  Using cached konoha-4.6.5-py3-none-any.whl (20 kB)\n",
      "Requirement already satisfied: transformers>=4.0.0 in c:\\users\\srini\\anaconda3\\lib\\site-packages (from flair) (4.15.0)\n",
      "Requirement already satisfied: six in c:\\users\\srini\\anaconda3\\lib\\site-packages (from gdown==3.12.2->flair) (1.16.0)\n",
      "Requirement already satisfied: requests[socks] in c:\\users\\srini\\anaconda3\\lib\\site-packages (from gdown==3.12.2->flair) (2.27.1)\n",
      "Requirement already satisfied: filelock in c:\\users\\srini\\anaconda3\\lib\\site-packages (from gdown==3.12.2->flair) (3.0.12)\n",
      "Requirement already satisfied: numpy in c:\\users\\srini\\anaconda3\\lib\\site-packages (from bpemb>=0.3.2->flair) (1.21.1+mkl)\n",
      "Requirement already satisfied: wrapt<2,>=1.10 in c:\\users\\srini\\anaconda3\\lib\\site-packages (from deprecated>=1.2.4->flair) (1.11.2)\n",
      "Requirement already satisfied: scipy>=0.18.1 in c:\\users\\srini\\anaconda3\\lib\\site-packages (from gensim>=3.4.0->flair) (1.6.2)\n",
      "Requirement already satisfied: smart-open>=1.8.1 in c:\\users\\srini\\anaconda3\\lib\\site-packages (from gensim>=3.4.0->flair) (5.2.1)\n",
      "Requirement already satisfied: Cython==0.29.23 in c:\\users\\srini\\anaconda3\\lib\\site-packages (from gensim>=3.4.0->flair) (0.29.23)\n",
      "Requirement already satisfied: overrides<4.0.0,>=3.0.0 in c:\\users\\srini\\anaconda3\\lib\\site-packages (from konoha<5.0.0,>=4.0.0->flair) (3.1.0)\n",
      "Requirement already satisfied: importlib-metadata<4.0.0,>=3.7.0 in c:\\users\\srini\\anaconda3\\lib\\site-packages (from konoha<5.0.0,>=4.0.0->flair) (3.10.1)\n",
      "Requirement already satisfied: kiwisolver>=1.0.1 in c:\\users\\srini\\anaconda3\\lib\\site-packages (from matplotlib>=2.2.3->flair) (1.2.0)\n",
      "Requirement already satisfied: cycler>=0.10 in c:\\users\\srini\\anaconda3\\lib\\site-packages (from matplotlib>=2.2.3->flair) (0.10.0)\n",
      "Requirement already satisfied: pyparsing!=2.0.4,!=2.1.2,!=2.1.6,>=2.0.1 in c:\\users\\srini\\anaconda3\\lib\\site-packages (from matplotlib>=2.2.3->flair) (2.4.7)\n",
      "Requirement already satisfied: threadpoolctl>=2.0.0 in c:\\users\\srini\\anaconda3\\lib\\site-packages (from scikit-learn>=0.21.3->flair) (2.1.0)\n",
      "Requirement already satisfied: joblib>=0.11 in c:\\users\\srini\\anaconda3\\lib\\site-packages (from scikit-learn>=0.21.3->flair) (0.16.0)\n",
      "Requirement already satisfied: typing-extensions in c:\\users\\srini\\anaconda3\\lib\\site-packages (from torch!=1.8,>=1.5.0->flair) (4.0.1)\n",
      "Requirement already satisfied: packaging>=20.0 in c:\\users\\srini\\anaconda3\\lib\\site-packages (from transformers>=4.0.0->flair) (21.3)\n",
      "Requirement already satisfied: sacremoses in c:\\users\\srini\\anaconda3\\lib\\site-packages (from transformers>=4.0.0->flair) (0.0.47)\n",
      "Requirement already satisfied: tokenizers<0.11,>=0.10.1 in c:\\users\\srini\\anaconda3\\lib\\site-packages (from transformers>=4.0.0->flair) (0.10.3)\n",
      "Requirement already satisfied: pyyaml>=5.1 in c:\\users\\srini\\anaconda3\\lib\\site-packages (from transformers>=4.0.0->flair) (5.3.1)\n",
      "Requirement already satisfied: wcwidth in c:\\users\\srini\\anaconda3\\lib\\site-packages (from ftfy->flair) (0.2.5)\n",
      "Requirement already satisfied: zipp>=0.5 in c:\\users\\srini\\anaconda3\\lib\\site-packages (from importlib-metadata<4.0.0,>=3.7.0->konoha<5.0.0,>=4.0.0->flair) (3.1.0)\n",
      "Requirement already satisfied: idna<4,>=2.5 in c:\\users\\srini\\anaconda3\\lib\\site-packages (from requests[socks]->gdown==3.12.2->flair) (2.10)"
     ]
    },
    {
     "name": "stderr",
     "output_type": "stream",
     "text": [
      "WARNING: Ignoring invalid distribution -umpy (c:\\users\\srini\\anaconda3\\lib\\site-packages)\n",
      "WARNING: Ignoring invalid distribution -umpy (c:\\users\\srini\\anaconda3\\lib\\site-packages)\n",
      "WARNING: Ignoring invalid distribution -umpy (c:\\users\\srini\\anaconda3\\lib\\site-packages)\n",
      "WARNING: Error parsing requirements for more-itertools: [Errno 2] No such file or directory: 'c:\\\\users\\\\srini\\\\anaconda3\\\\lib\\\\site-packages\\\\more_itertools-8.4.0.dist-info\\\\METADATA'\n",
      "    WARNING: Ignoring invalid distribution -umpy (c:\\users\\srini\\anaconda3\\lib\\site-packages)\n",
      "WARNING: Ignoring invalid distribution -umpy (c:\\users\\srini\\anaconda3\\lib\\site-packages)\n",
      "WARNING: Ignoring invalid distribution -umpy (c:\\users\\srini\\anaconda3\\lib\\site-packages)\n",
      "WARNING: Ignoring invalid distribution -umpy (c:\\users\\srini\\anaconda3\\lib\\site-packages)\n",
      "WARNING: Ignoring invalid distribution -umpy (c:\\users\\srini\\anaconda3\\lib\\site-packages)\n",
      "WARNING: Ignoring invalid distribution -umpy (c:\\users\\srini\\anaconda3\\lib\\site-packages)\n",
      "WARNING: Ignoring invalid distribution -umpy (c:\\users\\srini\\anaconda3\\lib\\site-packages)\n",
      "WARNING: Ignoring invalid distribution -umpy (c:\\users\\srini\\anaconda3\\lib\\site-packages)\n",
      "WARNING: Ignoring invalid distribution -umpy (c:\\users\\srini\\anaconda3\\lib\\site-packages)\n",
      "WARNING: Ignoring invalid distribution -umpy (c:\\users\\srini\\anaconda3\\lib\\site-packages)\n",
      "WARNING: Ignoring invalid distribution -umpy (c:\\users\\srini\\anaconda3\\lib\\site-packages)\n",
      "WARNING: Ignoring invalid distribution -umpy (c:\\users\\srini\\anaconda3\\lib\\site-packages)\n",
      "WARNING: Ignoring invalid distribution -umpy (c:\\users\\srini\\anaconda3\\lib\\site-packages)\n",
      "WARNING: Ignoring invalid distribution -umpy (c:\\users\\srini\\anaconda3\\lib\\site-packages)\n",
      "WARNING: Ignoring invalid distribution -umpy (c:\\users\\srini\\anaconda3\\lib\\site-packages)\n",
      "WARNING: Ignoring invalid distribution -umpy (c:\\users\\srini\\anaconda3\\lib\\site-packages)\n"
     ]
    },
    {
     "name": "stdout",
     "output_type": "stream",
     "text": [
      "\n",
      "Requirement already satisfied: urllib3<1.27,>=1.21.1 in c:\\users\\srini\\anaconda3\\lib\\site-packages (from requests[socks]->gdown==3.12.2->flair) (1.25.11)\n",
      "Requirement already satisfied: certifi>=2017.4.17 in c:\\users\\srini\\anaconda3\\lib\\site-packages (from requests[socks]->gdown==3.12.2->flair) (2021.5.30)\n",
      "Requirement already satisfied: charset-normalizer~=2.0.0 in c:\\users\\srini\\anaconda3\\lib\\site-packages (from requests[socks]->gdown==3.12.2->flair) (2.0.10)\n",
      "Requirement already satisfied: PySocks!=1.5.7,>=1.5.6 in c:\\users\\srini\\anaconda3\\lib\\site-packages (from requests[socks]->gdown==3.12.2->flair) (1.7.1)\n",
      "Requirement already satisfied: click in c:\\users\\srini\\anaconda3\\lib\\site-packages (from sacremoses->transformers>=4.0.0->flair) (8.0.1)\n",
      "Requirement already satisfied: colorama in c:\\users\\srini\\anaconda3\\lib\\site-packages (from click->sacremoses->transformers>=4.0.0->flair) (0.4.3)\n",
      "Installing collected packages: tabulate, segtok, mpld3, more-itertools, langdetect, konoha, janome, gdown, ftfy, deprecated, conllu, bpemb, flair\n",
      "  Attempting uninstall: more-itertools\n",
      "    Found existing installation: more-itertools 8.4.0\n",
      "    Can't uninstall 'more-itertools'. No files were found to uninstall.\n",
      "Successfully installed bpemb-0.3.3 conllu-4.4.1 deprecated-1.2.13 flair-0.10 ftfy-6.0.3 gdown-3.12.2 janome-0.4.1 konoha-4.6.5 langdetect-1.0.9 more-itertools-8.8.0 mpld3-0.3 segtok-1.5.11 tabulate-0.8.9\n"
     ]
    }
   ],
   "source": [
    "!pip install flair"
   ]
  },
  {
   "cell_type": "code",
   "execution_count": 4,
   "metadata": {},
   "outputs": [],
   "source": [
    "from flair.models import TextClassifier\n",
    "from flair.data import Sentence\n",
    "import pandas as pd"
   ]
  },
  {
   "cell_type": "code",
   "execution_count": 5,
   "metadata": {},
   "outputs": [
    {
     "name": "stdout",
     "output_type": "stream",
     "text": [
      "2022-01-13 21:52:04,898 https://nlp.informatik.hu-berlin.de/resources/models/sentiment-curated-distilbert/sentiment-en-mix-distillbert_4.pt not found in cache, downloading to C:\\Users\\srini\\AppData\\Local\\Temp\\tmpcg9n_8q5\n"
     ]
    },
    {
     "name": "stderr",
     "output_type": "stream",
     "text": [
      "100%|████████████████████████████████████████████████████████████████| 265512723/265512723 [00:49<00:00, 5338321.18B/s]"
     ]
    },
    {
     "name": "stdout",
     "output_type": "stream",
     "text": [
      "2022-01-13 21:52:55,285 copying C:\\Users\\srini\\AppData\\Local\\Temp\\tmpcg9n_8q5 to cache at C:\\Users\\srini\\.flair\\models\\sentiment-en-mix-distillbert_4.pt\n"
     ]
    },
    {
     "name": "stderr",
     "output_type": "stream",
     "text": [
      "\n"
     ]
    },
    {
     "name": "stdout",
     "output_type": "stream",
     "text": [
      "2022-01-13 21:52:55,616 removing temp file C:\\Users\\srini\\AppData\\Local\\Temp\\tmpcg9n_8q5\n",
      "2022-01-13 21:52:55,671 loading file C:\\Users\\srini\\.flair\\models\\sentiment-en-mix-distillbert_4.pt\n"
     ]
    },
    {
     "data": {
      "application/vnd.jupyter.widget-view+json": {
       "model_id": "7297279e9b4b424f84a83721a2393cd9",
       "version_major": 2,
       "version_minor": 0
      },
      "text/plain": [
       "HBox(children=(FloatProgress(value=0.0, description='Downloading', max=28.0, style=ProgressStyle(description_w…"
      ]
     },
     "metadata": {},
     "output_type": "display_data"
    },
    {
     "name": "stdout",
     "output_type": "stream",
     "text": [
      "\n"
     ]
    },
    {
     "data": {
      "application/vnd.jupyter.widget-view+json": {
       "model_id": "37a29f1c6b5f4375a5ed0e0bcfef3ef3",
       "version_major": 2,
       "version_minor": 0
      },
      "text/plain": [
       "HBox(children=(FloatProgress(value=0.0, description='Downloading', max=231508.0, style=ProgressStyle(descripti…"
      ]
     },
     "metadata": {},
     "output_type": "display_data"
    },
    {
     "name": "stdout",
     "output_type": "stream",
     "text": [
      "\n"
     ]
    },
    {
     "data": {
      "application/vnd.jupyter.widget-view+json": {
       "model_id": "04030ea87ed6483293a56a0413cdcd54",
       "version_major": 2,
       "version_minor": 0
      },
      "text/plain": [
       "HBox(children=(FloatProgress(value=0.0, description='Downloading', max=466062.0, style=ProgressStyle(descripti…"
      ]
     },
     "metadata": {},
     "output_type": "display_data"
    },
    {
     "name": "stdout",
     "output_type": "stream",
     "text": [
      "\n"
     ]
    },
    {
     "data": {
      "application/vnd.jupyter.widget-view+json": {
       "model_id": "7a02a1ea42f14d78a3410ef3781d30f8",
       "version_major": 2,
       "version_minor": 0
      },
      "text/plain": [
       "HBox(children=(FloatProgress(value=0.0, description='Downloading', max=483.0, style=ProgressStyle(description_…"
      ]
     },
     "metadata": {},
     "output_type": "display_data"
    },
    {
     "name": "stdout",
     "output_type": "stream",
     "text": [
      "\n"
     ]
    }
   ],
   "source": [
    "classifier = TextClassifier.load('en-sentiment')"
   ]
  },
  {
   "cell_type": "code",
   "execution_count": 6,
   "metadata": {},
   "outputs": [],
   "source": [
    "sentence = Sentence('The food was great!')\n",
    "classifier.predict(sentence)"
   ]
  },
  {
   "cell_type": "code",
   "execution_count": 10,
   "metadata": {},
   "outputs": [
    {
     "name": "stdout",
     "output_type": "stream",
     "text": [
      "Sentence above is:  POSITIVE (0.9961)\n"
     ]
    }
   ],
   "source": [
    "# print sentence with predicted labels\n",
    "print('Sentence above is: ', sentence.labels[0])"
   ]
  },
  {
   "cell_type": "code",
   "execution_count": 14,
   "metadata": {},
   "outputs": [
    {
     "data": {
      "text/plain": [
       "[POSITIVE (0.9707),\n",
       " NEGATIVE (0.9494),\n",
       " POSITIVE (0.9927),\n",
       " POSITIVE (0.9857),\n",
       " NEGATIVE (0.9705),\n",
       " POSITIVE (0.9867),\n",
       " POSITIVE (0.9997),\n",
       " POSITIVE (0.9996),\n",
       " POSITIVE (0.9995),\n",
       " NEGATIVE (0.9946)]"
      ]
     },
     "execution_count": 14,
     "metadata": {},
     "output_type": "execute_result"
    }
   ],
   "source": [
    "df = pd.read_csv(\"kohli.csv\")\n",
    "\n",
    "final = []\n",
    "\n",
    "for i in range(len(df)):\n",
    "    sentence = Sentence(df['Discription'][i])\n",
    "    classifier.predict(sentence)\n",
    "    final.append(sentence.labels[0])\n",
    "    \n",
    "final"
   ]
  },
  {
   "cell_type": "code",
   "execution_count": null,
   "metadata": {},
   "outputs": [],
   "source": []
  }
 ],
 "metadata": {
  "kernelspec": {
   "display_name": "Python 3",
   "language": "python",
   "name": "python3"
  },
  "language_info": {
   "codemirror_mode": {
    "name": "ipython",
    "version": 3
   },
   "file_extension": ".py",
   "mimetype": "text/x-python",
   "name": "python",
   "nbconvert_exporter": "python",
   "pygments_lexer": "ipython3",
   "version": "3.8.3"
  }
 },
 "nbformat": 4,
 "nbformat_minor": 4
}
