{
 "cells": [
  {
   "cell_type": "code",
   "execution_count": 1,
   "metadata": {},
   "outputs": [],
   "source": [
    "import requests\n",
    "from bs4 import BeautifulSoup\n",
    "from bs4.element import Tag\n",
    "import feedparser\n",
    "import urllib\n",
    "from selenium import webdriver\n",
    "from selenium.webdriver.common.by import By\n",
    "from selenium.webdriver.support.ui import WebDriverWait\n",
    "from selenium.webdriver.support import expected_conditions as EC\n",
    "from webdriver_manager.chrome import ChromeDriverManager\n",
    "import pickle\n",
    "import pandas as pd"
   ]
  },
  {
   "cell_type": "code",
   "execution_count": 2,
   "metadata": {},
   "outputs": [],
   "source": [
    "keyword = \"kohli\""
   ]
  },
  {
   "cell_type": "code",
   "execution_count": 3,
   "metadata": {},
   "outputs": [
    {
     "name": "stderr",
     "output_type": "stream",
     "text": [
      "\n",
      "\n",
      "====== WebDriver manager ======\n",
      "Current google-chrome version is 97.0.4692\n",
      "Get LATEST chromedriver version for 97.0.4692 google-chrome\n",
      "Trying to download new driver from https://chromedriver.storage.googleapis.com/97.0.4692.71/chromedriver_win32.zip\n",
      "Driver has been saved in cache [C:\\Users\\srini\\.wdm\\drivers\\chromedriver\\win32\\97.0.4692.71]\n",
      "<ipython-input-3-cd59821b00fb>:4: DeprecationWarning: executable_path has been deprecated, please pass in a Service object\n",
      "  browser = webdriver.Chrome(ChromeDriverManager().install())\n"
     ]
    }
   ],
   "source": [
    "def CNN_Scraper(max_pages):\n",
    "    base = \"https://edition.cnn.com/\"\n",
    "    #browser = webdriver.Chrome('C:/chromedriver_win32/chromedriver.exe')\n",
    "    browser = webdriver.Chrome(ChromeDriverManager().install())\n",
    "    load_content = browser.implicitly_wait(30)\n",
    "    base_url = 'https://edition.cnn.com/search?q=' + keyword + '&sort=newest&category=sport&size=100'\n",
    "    \n",
    "    CNN_title   = []\n",
    "    CNN_date   = []\n",
    "    CNN_article   = []\n",
    "    article_count = 0\n",
    "        \n",
    "\n",
    "    #iterate over pages and extract   \n",
    "    \n",
    "    for page in range(1, max_pages + 1):\n",
    "        url= base_url + \"&page=%d&from=%d\" % (page, article_count)\n",
    "        browser.get(url)\n",
    "        load_content\n",
    "        soup = BeautifulSoup(browser.page_source,'lxml')\n",
    "        search_results = soup.find('div', {'class':'cnn-search__results-list'})\n",
    "        contents = search_results.find_all('div', {'class':'cnn-search__result-contents'})\n",
    "\n",
    "        for content in contents:\n",
    "            try:\n",
    "                title = content.find('h3').text\n",
    "                link = content.find('a')\n",
    "                link_url = link['href']    \n",
    "\n",
    "                date = content.find('div',{'class':'cnn-search__result-publish-date'}).text.strip()\n",
    "                article = content.find('div',{'class':'cnn-search__result-body'}).text\n",
    "            except:\n",
    "                continue\n",
    "            CNN_title.append(title)\n",
    "            CNN_date.append(date)\n",
    "            CNN_article.append(article)\n",
    "            \n",
    "        article_count += 100   \n",
    "        \n",
    "    #Arranging as data frame\n",
    "    \n",
    "    df = pd.DataFrame()\n",
    "    df['title'] = CNN_title\n",
    "    df['date'] = CNN_date      \n",
    "    df['article'] = CNN_article \n",
    "    return df        \n",
    "\n",
    "    #print(\"Complete\")\n",
    "\n",
    "    browser.quit()\n",
    "    \n",
    "CNN_data = CNN_Scraper(2)\n",
    "#CNN_data.to_pickle(\"CNN_data\")"
   ]
  },
  {
   "cell_type": "code",
   "execution_count": 15,
   "metadata": {},
   "outputs": [],
   "source": [
    "CNN_data.to_csv('samp.csv')"
   ]
  },
  {
   "cell_type": "code",
   "execution_count": null,
   "metadata": {},
   "outputs": [],
   "source": []
  }
 ],
 "metadata": {
  "kernelspec": {
   "display_name": "Python 3",
   "language": "python",
   "name": "python3"
  },
  "language_info": {
   "codemirror_mode": {
    "name": "ipython",
    "version": 3
   },
   "file_extension": ".py",
   "mimetype": "text/x-python",
   "name": "python",
   "nbconvert_exporter": "python",
   "pygments_lexer": "ipython3",
   "version": "3.8.3"
  }
 },
 "nbformat": 4,
 "nbformat_minor": 4
}
