{
 "cells": [
  {
   "cell_type": "markdown",
   "metadata": {},
   "source": [
    "### Importing required libraries"
   ]
  },
  {
   "cell_type": "code",
   "execution_count": 1,
   "metadata": {},
   "outputs": [],
   "source": [
    "from datetime import date\n",
    "from bs4 import BeautifulSoup\n",
    "import pandas as pd\n",
    "import requests\n",
    "import re"
   ]
  },
  {
   "cell_type": "markdown",
   "metadata": {},
   "source": [
    "### Connecting and extracting the content from the given url "
   ]
  },
  {
   "cell_type": "code",
   "execution_count": 2,
   "metadata": {},
   "outputs": [],
   "source": [
    "keyword = \"barcelona\"\n",
    "url = \"https://www.poresto.net/noticias/buscar/?buscar=\" + keyword\n",
    "r1 = requests.get(url)\n",
    "coverpage = r1.content"
   ]
  },
  {
   "cell_type": "code",
   "execution_count": 3,
   "metadata": {},
   "outputs": [],
   "source": [
    "soup1 = BeautifulSoup(coverpage, 'html5lib')"
   ]
  },
  {
   "cell_type": "code",
   "execution_count": 11,
   "metadata": {},
   "outputs": [],
   "source": [
    "coverpage_news = soup1.find_all('div', {'class': 'col-xs-8'})"
   ]
  },
  {
   "cell_type": "markdown",
   "metadata": {},
   "source": [
    "NOTE : Simple Checks"
   ]
  },
  {
   "cell_type": "code",
   "execution_count": 13,
   "metadata": {},
   "outputs": [
    {
     "data": {
      "text/plain": [
       "<div class=\"col-xs-8\">\n",
       "<div class=\"volanta\"></div>\n",
       "<h5 class=\"titulo\"><a href=\"/republica/2022/1/17/diputados-priistas-piden-al-hijo-de-carlos-aysa-renunciar-su-curul-por-traicion-310455.html\">Diputados priistas piden al hijo de Carlos Aysa renunciar a su curul por \"traición\"</a></h5>\n",
       "<p>Luego de que el ex gobernador de Campeche fuera designado por la Presidencia como nuevo embajador de República Dominicana, la diputada del PRI, Paloma Sánchez pidió al hijo del ex mandatario estatal dejar la curul que le pertenece a su partido como un acto de congruencia</p>\n",
       "</div>"
      ]
     },
     "execution_count": 13,
     "metadata": {},
     "output_type": "execute_result"
    }
   ],
   "source": [
    "coverpage_news[0]"
   ]
  },
  {
   "cell_type": "code",
   "execution_count": 12,
   "metadata": {},
   "outputs": [
    {
     "data": {
      "text/plain": [
       "[<div class=\"col-xs-8\">\n",
       " <div class=\"volanta\"></div>\n",
       " <h5 class=\"titulo\"><a href=\"/republica/2022/1/17/diputados-priistas-piden-al-hijo-de-carlos-aysa-renunciar-su-curul-por-traicion-310455.html\">Diputados priistas piden al hijo de Carlos Aysa renunciar a su curul por \"traición\"</a></h5>\n",
       " <p>Luego de que el ex gobernador de Campeche fuera designado por la Presidencia como nuevo embajador de República Dominicana, la diputada del PRI, Paloma Sánchez pidió al hijo del ex mandatario estatal dejar la curul que le pertenece a su partido como un acto de congruencia</p>\n",
       " </div>,\n",
       " <div class=\"col-xs-8\">\n",
       " <div class=\"volanta\"></div>\n",
       " <h5 class=\"titulo\"><a href=\"/campeche/2022/1/17/alito-amenaza-con-expulsar-del-pri-carlos-miguel-aysa-exgobernador-de-campeche-310441.html\">Alito amenaza con expulsar del PRI a Carlos Miguel Aysa, exgobernador de Campeche</a></h5>\n",
       " <p>Alejandro Moreno, quien es el actual presidente del PRI, amenazó con expulsar del partido a quien fuera secretario de gobierno durante su gestión como gobernador en Campeche</p>\n",
       " </div>,\n",
       " <div class=\"col-xs-8\">\n",
       " <div class=\"volanta\"></div>\n",
       " <h5 class=\"titulo\"><a href=\"/hiperviral/2022/1/17/rebelde-way-asi-defendio-sergio-mayer-su-hijo-tras-polemicas-declaraciones-310442.html\">Rebelde Way: Así defendió Sergio Mayer a su hijo tras polémicas declaraciones</a></h5>\n",
       " <p>Sergio Mayer Mori aseguró que aceptó actuar en la nueva versión de Rebelde de Netflix para poder costear gastos de su hija Mila.\n",
       " </p>\n",
       " </div>,\n",
       " <div class=\"col-xs-8\">\n",
       " <div class=\"volanta\"></div>\n",
       " <h5 class=\"titulo\"><a href=\"/republica/2022/1/17/amlo-designa-consules-embajadores-de-mexico-salmeron-pavlovich-entre-los-nombramientos-310406.html\">AMLO designa cónsules y embajadores de México; Salmerón y Pavlovich, entre los nombramientos</a></h5>\n",
       " <p>La SRE dio a conocer a los nuevos representantes de nuestro país en el exterior, así como la designación de Alicia Bárcena como directora del Instituto Matías Romero</p>\n",
       " </div>,\n",
       " <div class=\"col-xs-8\">\n",
       " <div class=\"volanta\"></div>\n",
       " <h5 class=\"titulo\"><a href=\"/unicornio/cultura/2022/1/16/vocaloid-el-arte-del-software-310284.html\">VOCALOID: el arte del software</a></h5>\n",
       " <p></p>\n",
       " </div>,\n",
       " <div class=\"col-xs-8\">\n",
       " <div class=\"volanta\"></div>\n",
       " <h5 class=\"titulo\"><a href=\"/hiperviral/2022/1/14/muere-el-arquitecto-ricardo-bofill-exsuegro-de-paulina-rubio-como-fue-su-relacion-309989.html\">Muere el arquitecto Ricardo Bofill, exsuegro de Paulina Rubio; ¿Cómo fue su relación?</a></h5>\n",
       " <p>Bofill fue uno de los arquitectos españoles más reconocidos en el ámbito internacional y acumuló una larga trayectoria en los campos de la arquitectura, el diseño y la planificación urbana\n",
       " </p>\n",
       " </div>,\n",
       " <div class=\"col-xs-8\">\n",
       " <div class=\"volanta\"></div>\n",
       " <h5 class=\"titulo\"><a href=\"/republica/2022/1/12/ministro-jorge-mario-pardo-rebolledo-da-positivo-covid-19-sus-60-anos-309700.html\">Ministro Jorge Mario Pardo Rebolledo da positivo a COVID-19 a sus 60 años</a></h5>\n",
       " <p>El ministro presidente de la SCJN, Arturo Zaldívar, dio a conocer que el ministro Jorge Mario Pardo Rebolledo resultó positivo a COVID-19, pero sólo presenta síntomas leves, por lo que permanecerá aislado y trabajando desde su casa</p>\n",
       " </div>,\n",
       " <div class=\"col-xs-8\">\n",
       " <div class=\"volanta\"></div>\n",
       " <h5 class=\"titulo\"><a href=\"/deportes/2022/1/12/real-madrid-gana-3-2-al-barcelona-en-tiempos-extra-jugara-la-final-de-la-supercopa-309675.html\">Real Madrid gana 3-2 al Barcelona en tiempos extra; jugará la final de la Supercopa</a></h5>\n",
       " <p>El equipo culé logró el empate en dos ocasiones, llevando el juego al alargue, sin embargo, no pudieron ganar el juego</p>\n",
       " </div>,\n",
       " <div class=\"col-xs-8\">\n",
       " <div class=\"volanta\"></div>\n",
       " <h5 class=\"titulo\"><a href=\"/quintana-roo/2022/1/11/aeropuerto-de-cancun-programa-488-vuelos-en-sus-terminales-este-11-de-enero-309453.html\">Aeropuerto de Cancún programa 488 vuelos en sus terminales este 11 de enero</a></h5>\n",
       " <p>Asur reportó que el Aeropuerto Internacional de Cancún tendrá 337 vuelos extranjeros programados entre llegadas y salidas, además de las cancelaciones hechas por Aeroméxico</p>\n",
       " </div>,\n",
       " <div class=\"col-xs-8\">\n",
       " <div class=\"volanta\"></div>\n",
       " <h5 class=\"titulo\"><a href=\"/deportes/2022/1/10/barcelona-vs-real-madrid-donde-ver-la-semifinal-de-la-supercopa-de-espana-2022-309367.html\">Barcelona vs Real Madrid: ¿Dónde ver la semifinal de la Supercopa de España 2022?</a></h5>\n",
       " <p>Te damos a conocer las fechas, dónde podrás ver el clásico español, así como los antecedentes de partidos entre el Barcelona y Real Madrid</p>\n",
       " </div>,\n",
       " <div class=\"col-xs-8\">\n",
       " <div class=\"volanta\"></div>\n",
       " <h5 class=\"titulo\"><a href=\"/quintana-roo/2022/1/10/aun-con-clima-lluvioso-el-aeropuerto-de-cancun-programa-529-vuelos-309297.html\">Aun con clima lluvioso, el aeropuerto de Cancún programa 529 vuelos</a></h5>\n",
       " <p>Asur reportó que el aeropuerto de Cancún tendrá 266 llegadas entre vuelos nacionales y extranjeros, además de que mantiene la racha de más de 500 vuelos por segundo día consecutivo</p>\n",
       " </div>,\n",
       " <div class=\"col-xs-8\">\n",
       " <div class=\"volanta\"></div>\n",
       " <h5 class=\"titulo\"><a href=\"/deportes/2022/1/9/pioneros-junior-presentan-su-nuevo-preparador-fisico-para-este-torneo-309157.html\">Pioneros Junior presentan a su nuevo preparador físico para este torneo</a></h5>\n",
       " <p>Al proyecto de los Pioneros Junior se suma el nuevo preparador físico para la segunda vuelta de la temporada 2021-2022 de la Liga TDP</p>\n",
       " </div>,\n",
       " <div class=\"col-xs-8\">\n",
       " <div class=\"volanta\"></div>\n",
       " <h5 class=\"titulo\"><a href=\"/deportes/2022/1/8/laliga-real-madrid-golea-al-valencia-en-su-casa-barcelona-cae-al-sexto-lugar-309075.html\">LaLiga: Real Madrid golea al Valencia en su casa; Barcelona cae al sexto lugar</a></h5>\n",
       " <p>Con un marcador 4-1, Real Madrid goleó al Valencia, consolidando así su liderado en la tabla en LaLiga Española</p>\n",
       " </div>,\n",
       " <div class=\"col-xs-8\">\n",
       " <div class=\"volanta\"></div>\n",
       " <h5 class=\"titulo\"><a href=\"/deportes/2022/1/7/gerard-pique-muestra-en-twitter-su-sueldo-real-con-el-barcelona-308938.html\">Gerard Piqué muestra en Twitter su sueldo real con el Barcelona</a></h5>\n",
       " <p>El veterano central del Barcelona se vio envuelto en la polémica cuando medio catalanes afirmaron que cobraba 28 millones de euros por temporada</p>\n",
       " </div>,\n",
       " <div class=\"col-xs-8\">\n",
       " <div class=\"volanta\"></div>\n",
       " <h5 class=\"titulo\"><a href=\"/deportes/2022/1/7/messi-salah-lewandowski-finalistas-al-premio-the-best-308892.html\">Messi, Salah y Lewandowski, finalistas al premio The Best</a></h5>\n",
       " <p>Lewandowski aspira a obtener su segundo \"The Best\" consecutivo después de firmar un buen año en el que consiguió ganar la Bundesliga y la Supercopa de Alemania</p>\n",
       " </div>,\n",
       " <div class=\"col-xs-8\">\n",
       " <div class=\"volanta\"></div>\n",
       " <h5 class=\"titulo\"><a href=\"/deportes/2022/1/5/lionel-messi-llega-francia-tras-dar-negativo-covid-19-se-integrara-entrenamientos-con-psg-308582.html\">Lionel Messi llega a Francia tras dar negativo a COVID-19; se integrará a entrenamientos con PSG</a></h5>\n",
       " <p>Tras mantenerse aislado en Argentina, el jugador llegó a París donde se preparará para entrenar \"en los próximos días\" con el Saint Germain, sin confirmarse aún si jugará contra Lyon el domingo</p>\n",
       " </div>,\n",
       " <div class=\"col-xs-8\">\n",
       " <div class=\"volanta\"></div>\n",
       " <h5 class=\"titulo\"><a href=\"/quintana-roo/2022/1/4/vuelos-en-bajada-aeropuerto-de-cancun-registra-571-operaciones-este-04-de-enero-308314.html\">Vuelos en bajada: Aeropuerto de Cancún registra 571 operaciones este 04 de enero</a></h5>\n",
       " <p>Tras mantener una cifra arriba de los 600 vuelos en el periodo vacacional decembrino, Asur reportó que el aeropuerto de Cancún registró menos de esa cifra en este cuarto día del 2022</p>\n",
       " </div>,\n",
       " <div class=\"col-xs-8\">\n",
       " <div class=\"volanta\"></div>\n",
       " <h5 class=\"titulo\"><a href=\"/deportes/2022/1/2/real-madrid-comienza-el-2022-con-derrota-tras-caer-ante-el-getafe-307985.html\">Real Madrid comienza el 2022 con derrota tras caer ante el Getafe</a></h5>\n",
       " <p>Real Madrid sumó su primera derrota del 2022, al caer por la mínima diferencia en su visita al Getafe con un solitario gol de Enes Unal\n",
       " </p>\n",
       " </div>,\n",
       " <div class=\"col-xs-8\">\n",
       " <div class=\"volanta\"></div>\n",
       " <h5 class=\"titulo\"><a href=\"/deportes/2022/1/2/leo-messi-da-positivo-covid-esta-en-aislamiento-confirma-el-psg-307958.html\">Leo Messi da positivo a COVID; está en aislamiento, confirma el PSG</a></h5>\n",
       " <p>La Pulga demorará su regreso al PSG tras ser uno de los cuatro contagiados que anunció el club\n",
       " </p>\n",
       " </div>,\n",
       " <div class=\"col-xs-8\">\n",
       " <div class=\"volanta\"></div>\n",
       " <h5 class=\"titulo\"><a href=\"/hiperviral/2021/12/31/asi-recibieron-el-ano-nuevo-algunos-de-los-deportistas-mas-famosos-307851.html\">Así recibieron el Año Nuevo algunos de los deportistas más famosos</a></h5>\n",
       " <p>A través de Instagram, varios de los deportistas más reconocidos que se encuentran al otro lado del mundo, ya han compartido con sus seguidores cómo fue su noche al despedir al 2021</p>\n",
       " </div>]"
      ]
     },
     "execution_count": 12,
     "metadata": {},
     "output_type": "execute_result"
    }
   ],
   "source": [
    "coverpage_news"
   ]
  },
  {
   "cell_type": "code",
   "execution_count": 20,
   "metadata": {},
   "outputs": [
    {
     "data": {
      "text/plain": [
       "'/republica/2022/1/17/diputados-priistas-piden-al-hijo-de-carlos-aysa-renunciar-su-curul-por-traicion-310455.html'"
      ]
     },
     "execution_count": 20,
     "metadata": {},
     "output_type": "execute_result"
    }
   ],
   "source": [
    "coverpage_news[0].find('a')['href']"
   ]
  },
  {
   "cell_type": "code",
   "execution_count": 15,
   "metadata": {},
   "outputs": [
    {
     "data": {
      "text/plain": [
       "'Diputados priistas piden al hijo de Carlos Aysa renunciar a su curul por \"traición\"'"
      ]
     },
     "execution_count": 15,
     "metadata": {},
     "output_type": "execute_result"
    }
   ],
   "source": [
    "coverpage_news[0].find('a').get_text()"
   ]
  },
  {
   "cell_type": "code",
   "execution_count": 16,
   "metadata": {},
   "outputs": [
    {
     "data": {
      "text/plain": [
       "'Luego de que el ex gobernador de Campeche fuera designado por la Presidencia como nuevo embajador de República Dominicana, la diputada del PRI, Paloma Sánchez pidió al hijo del ex mandatario estatal dejar la curul que le pertenece a su partido como un acto de congruencia'"
      ]
     },
     "execution_count": 16,
     "metadata": {},
     "output_type": "execute_result"
    }
   ],
   "source": [
    "coverpage_news[0].find('p').get_text()"
   ]
  },
  {
   "cell_type": "markdown",
   "metadata": {},
   "source": [
    "### Fixing Keyword and initialising the required lists "
   ]
  },
  {
   "cell_type": "code",
   "execution_count": 25,
   "metadata": {},
   "outputs": [],
   "source": [
    "title = []\n",
    "links = []\n",
    "dates = []\n",
    "description = []"
   ]
  },
  {
   "cell_type": "markdown",
   "metadata": {},
   "source": [
    "### Collecting the title, date and links from the filtered articles "
   ]
  },
  {
   "cell_type": "code",
   "execution_count": 26,
   "metadata": {},
   "outputs": [],
   "source": [
    "for i in range(len(coverpage_news)):\n",
    "    url_ = \"https://www.poresto.net\" + coverpage_news[i].find('a')['href']\n",
    "    \n",
    "    r = requests.get(url_)\n",
    "    cover_page = r.content\n",
    "    soup1 = BeautifulSoup(cover_page, 'html5lib')\n",
    "\n",
    "    coverpagenews1 = soup1.find('div', {'class': 'fecha'})\n",
    "    dates.append(coverpagenews1.get_text())\n",
    "        \n",
    "    description.append(coverpage_news[i].find('p').get_text())\n",
    "    title.append(coverpage_news[i].find('a').get_text())\n",
    "    links.append(url_)\n",
    "    "
   ]
  },
  {
   "cell_type": "code",
   "execution_count": 27,
   "metadata": {},
   "outputs": [
    {
     "data": {
      "text/plain": [
       "['Diputados priistas piden al hijo de Carlos Aysa renunciar a su curul por \"traición\"',\n",
       " 'Alito amenaza con expulsar del PRI a Carlos Miguel Aysa, exgobernador de Campeche',\n",
       " 'Rebelde Way: Así defendió Sergio Mayer a su hijo tras polémicas declaraciones',\n",
       " 'AMLO designa cónsules y embajadores de México; Salmerón y Pavlovich, entre los nombramientos',\n",
       " 'VOCALOID: el arte del software',\n",
       " 'Muere el arquitecto Ricardo Bofill, exsuegro de Paulina Rubio; ¿Cómo fue su relación?',\n",
       " 'Ministro Jorge Mario Pardo Rebolledo da positivo a COVID-19 a sus 60 años',\n",
       " 'Real Madrid gana 3-2 al Barcelona en tiempos extra; jugará la final de la Supercopa',\n",
       " 'Aeropuerto de Cancún programa 488 vuelos en sus terminales este 11 de enero',\n",
       " 'Barcelona vs Real Madrid: ¿Dónde ver la semifinal de la Supercopa de España 2022?',\n",
       " 'Aun con clima lluvioso, el aeropuerto de Cancún programa 529 vuelos',\n",
       " 'Pioneros Junior presentan a su nuevo preparador físico para este torneo',\n",
       " 'LaLiga: Real Madrid golea al Valencia en su casa; Barcelona cae al sexto lugar',\n",
       " 'Gerard Piqué muestra en Twitter su sueldo real con el Barcelona',\n",
       " 'Messi, Salah y Lewandowski, finalistas al premio The Best',\n",
       " 'Lionel Messi llega a Francia tras dar negativo a COVID-19; se integrará a entrenamientos con PSG',\n",
       " 'Vuelos en bajada: Aeropuerto de Cancún registra 571 operaciones este 04 de enero',\n",
       " 'Real Madrid comienza el 2022 con derrota tras caer ante el Getafe',\n",
       " 'Leo Messi da positivo a COVID; está en aislamiento, confirma el PSG',\n",
       " 'Así recibieron el Año Nuevo algunos de los deportistas más famosos']"
      ]
     },
     "execution_count": 27,
     "metadata": {},
     "output_type": "execute_result"
    }
   ],
   "source": [
    "title"
   ]
  },
  {
   "cell_type": "code",
   "execution_count": 28,
   "metadata": {},
   "outputs": [
    {
     "data": {
      "text/plain": [
       "['https://www.poresto.net/republica/2022/1/17/diputados-priistas-piden-al-hijo-de-carlos-aysa-renunciar-su-curul-por-traicion-310455.html',\n",
       " 'https://www.poresto.net/campeche/2022/1/17/alito-amenaza-con-expulsar-del-pri-carlos-miguel-aysa-exgobernador-de-campeche-310441.html',\n",
       " 'https://www.poresto.net/hiperviral/2022/1/17/rebelde-way-asi-defendio-sergio-mayer-su-hijo-tras-polemicas-declaraciones-310442.html',\n",
       " 'https://www.poresto.net/republica/2022/1/17/amlo-designa-consules-embajadores-de-mexico-salmeron-pavlovich-entre-los-nombramientos-310406.html',\n",
       " 'https://www.poresto.net/unicornio/cultura/2022/1/16/vocaloid-el-arte-del-software-310284.html',\n",
       " 'https://www.poresto.net/hiperviral/2022/1/14/muere-el-arquitecto-ricardo-bofill-exsuegro-de-paulina-rubio-como-fue-su-relacion-309989.html',\n",
       " 'https://www.poresto.net/republica/2022/1/12/ministro-jorge-mario-pardo-rebolledo-da-positivo-covid-19-sus-60-anos-309700.html',\n",
       " 'https://www.poresto.net/deportes/2022/1/12/real-madrid-gana-3-2-al-barcelona-en-tiempos-extra-jugara-la-final-de-la-supercopa-309675.html',\n",
       " 'https://www.poresto.net/quintana-roo/2022/1/11/aeropuerto-de-cancun-programa-488-vuelos-en-sus-terminales-este-11-de-enero-309453.html',\n",
       " 'https://www.poresto.net/deportes/2022/1/10/barcelona-vs-real-madrid-donde-ver-la-semifinal-de-la-supercopa-de-espana-2022-309367.html',\n",
       " 'https://www.poresto.net/quintana-roo/2022/1/10/aun-con-clima-lluvioso-el-aeropuerto-de-cancun-programa-529-vuelos-309297.html',\n",
       " 'https://www.poresto.net/deportes/2022/1/9/pioneros-junior-presentan-su-nuevo-preparador-fisico-para-este-torneo-309157.html',\n",
       " 'https://www.poresto.net/deportes/2022/1/8/laliga-real-madrid-golea-al-valencia-en-su-casa-barcelona-cae-al-sexto-lugar-309075.html',\n",
       " 'https://www.poresto.net/deportes/2022/1/7/gerard-pique-muestra-en-twitter-su-sueldo-real-con-el-barcelona-308938.html',\n",
       " 'https://www.poresto.net/deportes/2022/1/7/messi-salah-lewandowski-finalistas-al-premio-the-best-308892.html',\n",
       " 'https://www.poresto.net/deportes/2022/1/5/lionel-messi-llega-francia-tras-dar-negativo-covid-19-se-integrara-entrenamientos-con-psg-308582.html',\n",
       " 'https://www.poresto.net/quintana-roo/2022/1/4/vuelos-en-bajada-aeropuerto-de-cancun-registra-571-operaciones-este-04-de-enero-308314.html',\n",
       " 'https://www.poresto.net/deportes/2022/1/2/real-madrid-comienza-el-2022-con-derrota-tras-caer-ante-el-getafe-307985.html',\n",
       " 'https://www.poresto.net/deportes/2022/1/2/leo-messi-da-positivo-covid-esta-en-aislamiento-confirma-el-psg-307958.html',\n",
       " 'https://www.poresto.net/hiperviral/2021/12/31/asi-recibieron-el-ano-nuevo-algunos-de-los-deportistas-mas-famosos-307851.html']"
      ]
     },
     "execution_count": 28,
     "metadata": {},
     "output_type": "execute_result"
    }
   ],
   "source": [
    "links"
   ]
  },
  {
   "cell_type": "code",
   "execution_count": 29,
   "metadata": {},
   "outputs": [
    {
     "data": {
      "text/plain": [
       "['\\nlunes, 17 de enero de 2022 · 21:57',\n",
       " '\\nlunes, 17 de enero de 2022 · 20:56',\n",
       " '\\nlunes, 17 de enero de 2022 · 20:29',\n",
       " '\\nlunes, 17 de enero de 2022 · 17:20',\n",
       " '\\ndomingo, 16 de enero de 2022 · 23:40',\n",
       " '\\nviernes, 14 de enero de 2022 · 14:16',\n",
       " '\\nmiércoles, 12 de enero de 2022 · 19:53',\n",
       " '\\nmiércoles, 12 de enero de 2022 · 17:23',\n",
       " '\\nmartes, 11 de enero de 2022 · 13:13',\n",
       " '\\nlunes, 10 de enero de 2022 · 22:44',\n",
       " '\\nlunes, 10 de enero de 2022 · 15:36',\n",
       " '\\ndomingo, 9 de enero de 2022 · 18:52',\n",
       " '\\nsábado, 8 de enero de 2022 · 17:48',\n",
       " '\\nviernes, 7 de enero de 2022 · 19:16',\n",
       " '\\nviernes, 7 de enero de 2022 · 14:40',\n",
       " '\\nmiércoles, 5 de enero de 2022 · 21:51',\n",
       " '\\nmartes, 4 de enero de 2022 · 14:13',\n",
       " '\\ndomingo, 2 de enero de 2022 · 12:10',\n",
       " '\\ndomingo, 2 de enero de 2022 · 08:56',\n",
       " '\\nviernes, 31 de diciembre de 2021 · 20:25']"
      ]
     },
     "execution_count": 29,
     "metadata": {},
     "output_type": "execute_result"
    }
   ],
   "source": [
    "dates"
   ]
  },
  {
   "cell_type": "code",
   "execution_count": 30,
   "metadata": {},
   "outputs": [
    {
     "data": {
      "text/plain": [
       "['21/01/2022',\n",
       " '21/01/2022',\n",
       " '21/01/2022',\n",
       " '21/01/2022',\n",
       " '21/01/2022',\n",
       " '21/01/2022',\n",
       " '21/01/2022',\n",
       " '21/01/2022',\n",
       " '21/01/2022',\n",
       " '21/01/2022',\n",
       " '21/01/2022',\n",
       " '21/01/2022',\n",
       " '21/01/2022',\n",
       " '21/01/2022',\n",
       " '21/01/2022',\n",
       " '21/01/2022',\n",
       " '21/01/2022',\n",
       " '21/01/2022',\n",
       " '21/01/2022',\n",
       " '21/01/2022']"
      ]
     },
     "execution_count": 30,
     "metadata": {},
     "output_type": "execute_result"
    }
   ],
   "source": [
    "current_date = date.today()\n",
    "current_date = current_date.strftime(\"%d/%m/%Y\")\n",
    "\n",
    "current_dates = [current_date for i in range(len(links))]\n",
    "current_dates"
   ]
  },
  {
   "cell_type": "code",
   "execution_count": 31,
   "metadata": {},
   "outputs": [
    {
     "data": {
      "text/plain": [
       "['Luego de que el ex gobernador de Campeche fuera designado por la Presidencia como nuevo embajador de República Dominicana, la diputada del PRI, Paloma Sánchez pidió al hijo del ex mandatario estatal dejar la curul que le pertenece a su partido como un acto de congruencia',\n",
       " 'Alejandro Moreno, quien es el actual presidente del PRI, amenazó con expulsar del partido a quien fuera secretario de gobierno durante su gestión como gobernador en Campeche',\n",
       " 'Sergio Mayer Mori aseguró que aceptó actuar en la nueva versión de Rebelde de Netflix para poder costear gastos de su hija Mila.\\n',\n",
       " 'La SRE dio a conocer a los nuevos representantes de nuestro país en el exterior, así como la designación de Alicia Bárcena como directora del Instituto Matías Romero',\n",
       " '',\n",
       " 'Bofill fue uno de los arquitectos españoles más reconocidos en el ámbito internacional y acumuló una larga trayectoria en los campos de la arquitectura, el diseño y la planificación urbana\\n',\n",
       " 'El ministro presidente de la SCJN, Arturo Zaldívar, dio a conocer que el ministro Jorge Mario Pardo Rebolledo resultó positivo a COVID-19, pero sólo presenta síntomas leves, por lo que permanecerá aislado y trabajando desde su casa',\n",
       " 'El equipo culé logró el empate en dos ocasiones, llevando el juego al alargue, sin embargo, no pudieron ganar el juego',\n",
       " 'Asur reportó que el Aeropuerto Internacional de Cancún tendrá 337 vuelos extranjeros programados entre llegadas y salidas, además de las cancelaciones hechas por Aeroméxico',\n",
       " 'Te damos a conocer las fechas, dónde podrás ver el clásico español, así como los antecedentes de partidos entre el Barcelona y Real Madrid',\n",
       " 'Asur reportó que el aeropuerto de Cancún tendrá 266 llegadas entre vuelos nacionales y extranjeros, además de que mantiene la racha de más de 500 vuelos por segundo día consecutivo',\n",
       " 'Al proyecto de los Pioneros Junior se suma el nuevo preparador físico para la segunda vuelta de la temporada 2021-2022 de la Liga TDP',\n",
       " 'Con un marcador 4-1, Real Madrid goleó al Valencia, consolidando así su liderado en la tabla en LaLiga Española',\n",
       " 'El veterano central del Barcelona se vio envuelto en la polémica cuando medio catalanes afirmaron que cobraba 28 millones de euros por temporada',\n",
       " 'Lewandowski aspira a obtener\\xa0su segundo \"The Best\" consecutivo\\xa0después de firmar un buen año en el que consiguió ganar la\\xa0Bundesliga y la Supercopa de Alemania',\n",
       " 'Tras mantenerse aislado en Argentina, el jugador llegó a París donde se preparará para entrenar \"en los próximos días\" con el Saint Germain, sin confirmarse aún si jugará contra Lyon el domingo',\n",
       " 'Tras mantener una cifra arriba de los 600 vuelos en el periodo vacacional decembrino, Asur reportó que el aeropuerto de Cancún registró menos de esa cifra en este cuarto día del 2022',\n",
       " 'Real Madrid sumó su primera derrota del 2022, al caer por la mínima diferencia en su visita al Getafe con un solitario gol de Enes Unal\\n',\n",
       " 'La Pulga demorará su regreso al PSG tras ser uno de los cuatro contagiados que anunció el club\\n',\n",
       " 'A través de Instagram, varios de los deportistas más reconocidos que se encuentran al otro lado del mundo, ya han compartido con sus seguidores cómo fue su noche al despedir al 2021']"
      ]
     },
     "execution_count": 31,
     "metadata": {},
     "output_type": "execute_result"
    }
   ],
   "source": [
    "description"
   ]
  },
  {
   "cell_type": "markdown",
   "metadata": {},
   "source": [
    "### Writing to csv file "
   ]
  },
  {
   "cell_type": "code",
   "execution_count": 32,
   "metadata": {},
   "outputs": [],
   "source": [
    "dict = {'Title': title, 'Link': links, 'Date': dates, 'Extracted date': current_dates, 'Description': description} \n",
    "df = pd.DataFrame(dict) \n",
    "df.to_csv('data_list_poresto.csv')"
   ]
  },
  {
   "cell_type": "code",
   "execution_count": null,
   "metadata": {},
   "outputs": [],
   "source": []
  }
 ],
 "metadata": {
  "kernelspec": {
   "display_name": "Python 3",
   "language": "python",
   "name": "python3"
  },
  "language_info": {
   "codemirror_mode": {
    "name": "ipython",
    "version": 3
   },
   "file_extension": ".py",
   "mimetype": "text/x-python",
   "name": "python",
   "nbconvert_exporter": "python",
   "pygments_lexer": "ipython3",
   "version": "3.8.3"
  }
 },
 "nbformat": 4,
 "nbformat_minor": 4
}
